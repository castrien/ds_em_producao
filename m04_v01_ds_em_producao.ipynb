{
 "cells": [
  {
   "cell_type": "markdown",
   "id": "116aaa3e",
   "metadata": {},
   "source": [
    "# 0.0 Imports"
   ]
  },
  {
   "cell_type": "code",
   "execution_count": 1,
   "id": "0b93c381",
   "metadata": {},
   "outputs": [
    {
     "name": "stderr",
     "output_type": "stream",
     "text": [
      "C:\\Users\\claud\\anaconda3\\envs\\ds_em_producao\\lib\\site-packages\\xgboost\\compat.py:36: FutureWarning: pandas.Int64Index is deprecated and will be removed from pandas in a future version. Use pandas.Index with the appropriate dtype instead.\n",
      "  from pandas import MultiIndex, Int64Index\n"
     ]
    }
   ],
   "source": [
    "import pandas as pd\n",
    "import inflection\n",
    "import math\n",
    "import numpy as np\n",
    "import seaborn as sns\n",
    "import matplotlib.pyplot as plt\n",
    "from IPython.display import Image\n",
    "import datetime\n",
    "from scipy import stats as ss\n",
    "from sklearn.preprocessing import RobustScaler, MinMaxScaler, LabelEncoder\n",
    "from boruta import BorutaPy\n",
    "from sklearn.ensemble import RandomForestRegressor\n",
    "from sklearn.linear_model import LinearRegression, Lasso\n",
    "from sklearn.metrics import mean_absolute_error, mean_squared_error\n",
    "import xgboost as xgb\n",
    "from sklearn.ensemble import RandomForestRegressor"
   ]
  },
  {
   "cell_type": "markdown",
   "id": "35018ba1",
   "metadata": {},
   "source": [
    "## 0.1 Funções auxiliares"
   ]
  },
  {
   "cell_type": "code",
   "execution_count": 2,
   "id": "7295b6d7",
   "metadata": {},
   "outputs": [],
   "source": [
    "def cramer_v (x, y):\n",
    "    cm = pd.crosstab( x, y ).values\n",
    "    n = cm.sum()\n",
    "    r, k = cm.shape\n",
    "    \n",
    "    chi2 = ss.chi2_contingency(cm )[0]\n",
    "    chi2corr = max (0, chi2 - (k-1)*(r-1) / (n-1) )\n",
    "    \n",
    "    kcorr = k - (k-1)**2/ (n-1)\n",
    "    rcorr = r - (r-1)**2/ (n-1)\n",
    "    \n",
    "    return np.sqrt( (chi2corr/n) / (min( kcorr-1 , rcorr-1 ) ) )\n",
    "\n",
    "def mean_absolute_percentage_error( y, yhat):\n",
    "    return np.mean(  np.abs ( ( y - yhat ) / y ) )\n",
    "\n",
    "def m1_error ( model_name,y, yhat):\n",
    "    mae = mean_absolute_error (y , yhat)\n",
    "    mape = mean_absolute_percentage_error( y, yhat)\n",
    "    rmse = np.sqrt ( mean_squared_error (y, yhat))\n",
    "    \n",
    "    return pd.DataFrame( { 'Model Name': model_name,\n",
    "                         'MAE': mae,\n",
    "                         'MAPE':mape,\n",
    "                         'RMSE': rmse }, index=[0])\n",
    "\n",
    "def cross_validation(x_training, kfold, model_name, model, verbose = False):\n",
    "    mae_list = []\n",
    "    mape_list = []\n",
    "    rmse_list = []\n",
    "\n",
    "    for k in reversed( range ( 1, kfold+1) ):\n",
    "        #começo e final para validação\n",
    "        validation_start_date = x_training['date'].max() - datetime.timedelta( days= k*6*7)\n",
    "        validation_end_date = x_training['date'].max() - datetime.timedelta( days= (k-1)*6*7)\n",
    "\n",
    "        #filtering dataset\n",
    "        training = x_training[x_training['date'] < validation_start_date]\n",
    "        validation = x_training [ ( x_training['date']  >= validation_start_date ) & ( x_training['date']  <= validation_end_date ) ]\n",
    "\n",
    "        #treinamento\n",
    "        xtraining = training.drop(['date','sales'],axis =1)\n",
    "        ytraining = training['sales']\n",
    "\n",
    "        #validacao\n",
    "        yvalidation = validation['sales']\n",
    "        xvalidation = validation.drop(['date','sales'],axis = 1)\n",
    "\n",
    "        #modelo\n",
    "        m = model.fit(xtraining, ytraining)\n",
    "\n",
    "        #predicao\n",
    "        yhat = m.predict(xvalidation)\n",
    "\n",
    "        #perfomance\n",
    "        m_result = m1_error (model_name, np.expm1(yvalidation), np.expm1(yhat))\n",
    "\n",
    "        #perfomance por loja por k iteracoes\n",
    "        mae_list.append (m_result['MAE'] )\n",
    "        mape_list.append (m_result['MAPE'] )\n",
    "        rmse_list.append ( m_result['RMSE'] )\n",
    "        if verbose:\n",
    "            print(lr_result)\n",
    "\n",
    "    return pd.DataFrame( {'Model Name': model_name,\n",
    "         'MAE CV': np.round( np.mean(mae_list), 2 ).astype(str) + ' +/- ' + np.round (np.std (mae_list), 2).astype(str),\n",
    "         'MAPE CV': np.round( np.mean(mape_list), 2 ).astype(str) + ' +/- ' + np.round (np.std (mape_list), 2).astype(str),\n",
    "         'RMSE CV': np.round( np.mean(rmse_list), 2 ).astype(str) + ' +/- ' + np.round (np.std (rmse_list), 2).astype(str) } , index=[0])\n"
   ]
  },
  {
   "cell_type": "markdown",
   "id": "1f801bb6",
   "metadata": {},
   "source": [
    "# 1.0 Carregando os dados"
   ]
  },
  {
   "cell_type": "code",
   "execution_count": 3,
   "id": "786b3b6b",
   "metadata": {},
   "outputs": [],
   "source": [
    "df_sales_raw = pd.read_csv('data/train.csv', low_memory= False)\n",
    "df_store_raw = pd.read_csv('data/store.csv', low_memory= False)\n",
    "\n",
    "\n",
    "#merge\n",
    "df_raw = pd.merge( df_sales_raw, df_store_raw, how='left', on='Store')"
   ]
  },
  {
   "cell_type": "markdown",
   "id": "b7f6127e",
   "metadata": {},
   "source": [
    "# 2.0 Descrição dos dados"
   ]
  },
  {
   "cell_type": "code",
   "execution_count": 4,
   "id": "468e127f",
   "metadata": {},
   "outputs": [],
   "source": [
    "df1 = df_raw.copy()"
   ]
  },
  {
   "cell_type": "markdown",
   "id": "1f3a53c5",
   "metadata": {},
   "source": [
    "## 2.1 Renomear colunas"
   ]
  },
  {
   "cell_type": "code",
   "execution_count": 5,
   "id": "57655026",
   "metadata": {},
   "outputs": [],
   "source": [
    "cols_old = ['Store', 'DayOfWeek', 'Date', 'Sales', 'Customers', 'Open', 'Promo','StateHoliday',\n",
    "            'SchoolHoliday', 'StoreType', 'Assortment','CompetitionDistance', 'CompetitionOpenSinceMonth',\n",
    "            'CompetitionOpenSinceYear', 'Promo2', 'Promo2SinceWeek','Promo2SinceYear', 'PromoInterval']\n",
    "\n",
    "snakecase = lambda x: inflection.underscore(x)\n",
    "\n",
    "cols_new = list( map(snakecase, cols_old) )\n",
    "\n",
    "#renomear\n",
    "df1.columns = cols_new"
   ]
  },
  {
   "cell_type": "markdown",
   "id": "428a0e30",
   "metadata": {},
   "source": [
    "## 2.2 Dimensão dos dados"
   ]
  },
  {
   "cell_type": "code",
   "execution_count": 6,
   "id": "24cf6d7f",
   "metadata": {},
   "outputs": [
    {
     "name": "stdout",
     "output_type": "stream",
     "text": [
      "Number of Rows:1017209\n",
      "Number of Cols:18\n"
     ]
    }
   ],
   "source": [
    "print( 'Number of Rows:{}'.format( df1.shape[0]))\n",
    "print( 'Number of Cols:{}'.format( df1.shape[1]))"
   ]
  },
  {
   "cell_type": "markdown",
   "id": "b3bcc118",
   "metadata": {},
   "source": [
    "## 2.3 Tipo de dados"
   ]
  },
  {
   "cell_type": "code",
   "execution_count": 7,
   "id": "4ebadbfa",
   "metadata": {},
   "outputs": [
    {
     "data": {
      "text/plain": [
       "store                             int64\n",
       "day_of_week                       int64\n",
       "date                             object\n",
       "sales                             int64\n",
       "customers                         int64\n",
       "open                              int64\n",
       "promo                             int64\n",
       "state_holiday                    object\n",
       "school_holiday                    int64\n",
       "store_type                       object\n",
       "assortment                       object\n",
       "competition_distance            float64\n",
       "competition_open_since_month    float64\n",
       "competition_open_since_year     float64\n",
       "promo2                            int64\n",
       "promo2_since_week               float64\n",
       "promo2_since_year               float64\n",
       "promo_interval                   object\n",
       "dtype: object"
      ]
     },
     "execution_count": 7,
     "metadata": {},
     "output_type": "execute_result"
    }
   ],
   "source": [
    "df1.dtypes"
   ]
  },
  {
   "cell_type": "code",
   "execution_count": 8,
   "id": "67754399",
   "metadata": {},
   "outputs": [
    {
     "data": {
      "text/plain": [
       "store                                    int64\n",
       "day_of_week                              int64\n",
       "date                            datetime64[ns]\n",
       "sales                                    int64\n",
       "customers                                int64\n",
       "open                                     int64\n",
       "promo                                    int64\n",
       "state_holiday                           object\n",
       "school_holiday                           int64\n",
       "store_type                              object\n",
       "assortment                              object\n",
       "competition_distance                   float64\n",
       "competition_open_since_month           float64\n",
       "competition_open_since_year            float64\n",
       "promo2                                   int64\n",
       "promo2_since_week                      float64\n",
       "promo2_since_year                      float64\n",
       "promo_interval                          object\n",
       "dtype: object"
      ]
     },
     "execution_count": 8,
     "metadata": {},
     "output_type": "execute_result"
    }
   ],
   "source": [
    "df1['date'] = pd.to_datetime( df1['date'])\n",
    "df1.dtypes"
   ]
  },
  {
   "cell_type": "raw",
   "id": "d28cd2bd",
   "metadata": {},
   "source": [
    "df1.columns"
   ]
  },
  {
   "cell_type": "markdown",
   "id": "fa9728ec",
   "metadata": {},
   "source": [
    "## 2.4 verificar os NA"
   ]
  },
  {
   "cell_type": "code",
   "execution_count": 9,
   "id": "a84c4496",
   "metadata": {
    "scrolled": true
   },
   "outputs": [
    {
     "data": {
      "text/plain": [
       "store                                0\n",
       "day_of_week                          0\n",
       "date                                 0\n",
       "sales                                0\n",
       "customers                            0\n",
       "open                                 0\n",
       "promo                                0\n",
       "state_holiday                        0\n",
       "school_holiday                       0\n",
       "store_type                           0\n",
       "assortment                           0\n",
       "competition_distance              2642\n",
       "competition_open_since_month    323348\n",
       "competition_open_since_year     323348\n",
       "promo2                               0\n",
       "promo2_since_week               508031\n",
       "promo2_since_year               508031\n",
       "promo_interval                  508031\n",
       "dtype: int64"
      ]
     },
     "execution_count": 9,
     "metadata": {},
     "output_type": "execute_result"
    }
   ],
   "source": [
    "df1.isna().sum()"
   ]
  },
  {
   "cell_type": "markdown",
   "id": "685fa810",
   "metadata": {},
   "source": [
    "## 2.5 preencher os NA"
   ]
  },
  {
   "cell_type": "code",
   "execution_count": 10,
   "id": "d5119a76",
   "metadata": {},
   "outputs": [
    {
     "data": {
      "text/plain": [
       "75860.0"
      ]
     },
     "execution_count": 10,
     "metadata": {},
     "output_type": "execute_result"
    }
   ],
   "source": [
    "df1['competition_distance'].max()"
   ]
  },
  {
   "cell_type": "code",
   "execution_count": 11,
   "id": "32052833",
   "metadata": {},
   "outputs": [],
   "source": [
    "#competition_distance              2642\n",
    "df1['competition_distance'] = df1['competition_distance'].apply( lambda x: 200000.0 if math.isnan ( x ) else x )\n",
    "\n",
    "#competition_open_since_month    323348\n",
    "df1['competition_open_since_month'] = df1.apply( lambda x: x['date'].month if math.isnan( x['competition_open_since_month']) else\n",
    "                                                x['competition_open_since_month'], axis =1)\n",
    "\n",
    "#competition_open_since_year     323348\n",
    "df1['competition_open_since_year'] = df1.apply( lambda x: x['date'].year if math.isnan( x['competition_open_since_year']) else\n",
    "                                                x['competition_open_since_year'], axis =1)\n",
    "#promo2                               0\n",
    "#promo2_since_week               508031\n",
    "df1['promo2_since_week'] = df1.apply( lambda x: x['date'].month if math.isnan( x['promo2_since_week']) else\n",
    "                                                x['promo2_since_week'], axis =1)\n",
    "#promo2_since_year               508031\n",
    "df1['promo2_since_year'] = df1.apply( lambda x: x['date'].year if math.isnan( x['promo2_since_year']) else\n",
    "                                                x['promo2_since_year'], axis =1)\n",
    "\n",
    "#promo_interval                  508031\n",
    "month_map = {1:'Jan',2:'fev',3:'Mar',4:'Apr',5:'May',6:'Jun',7:'Jul',8:'Aug',9:'Sep',10:'Oct',11:'Nov',12:'Dec'}\n",
    "#substituir NA por 0\n",
    "df1['promo_interval'].fillna(0, inplace=True)\n",
    "#transaformando data em mes\n",
    "df1['month_map'] = df1['date'].dt.month.map(month_map)\n",
    "#verificando se a loja fez parte da promocao\n",
    "df1['is_promo'] = df1[['promo_interval','month_map']].apply( lambda x: 0 if x['promo_interval'] == 0 else 1 \n",
    "                                                            if x['month_map'] in x['promo_interval'].split(',') else 0, axis=1)"
   ]
  },
  {
   "cell_type": "markdown",
   "id": "c9be52ff",
   "metadata": {},
   "source": [
    "## 2.6 Alterar Tipos"
   ]
  },
  {
   "cell_type": "code",
   "execution_count": 12,
   "id": "b93b0da9",
   "metadata": {},
   "outputs": [
    {
     "data": {
      "text/plain": [
       "store                                    int64\n",
       "day_of_week                              int64\n",
       "date                            datetime64[ns]\n",
       "sales                                    int64\n",
       "customers                                int64\n",
       "open                                     int64\n",
       "promo                                    int64\n",
       "state_holiday                           object\n",
       "school_holiday                           int64\n",
       "store_type                              object\n",
       "assortment                              object\n",
       "competition_distance                   float64\n",
       "competition_open_since_month           float64\n",
       "competition_open_since_year            float64\n",
       "promo2                                   int64\n",
       "promo2_since_week                      float64\n",
       "promo2_since_year                      float64\n",
       "promo_interval                          object\n",
       "month_map                               object\n",
       "is_promo                                 int64\n",
       "dtype: object"
      ]
     },
     "execution_count": 12,
     "metadata": {},
     "output_type": "execute_result"
    }
   ],
   "source": [
    "df1.dtypes"
   ]
  },
  {
   "cell_type": "code",
   "execution_count": 13,
   "id": "8cbb9ccd",
   "metadata": {},
   "outputs": [],
   "source": [
    "df1['competition_open_since_month'] = np.int64 ( df1['competition_open_since_month'] )\n",
    "df1['competition_open_since_year'] = np.int64 ( df1['competition_open_since_year'] )\n",
    "df1['promo2_since_week'] = np.int64 ( df1['promo2_since_week'] )\n",
    "df1['promo2_since_year'] = np.int64 ( df1['promo2_since_year'] )"
   ]
  },
  {
   "cell_type": "markdown",
   "id": "5f202e41",
   "metadata": {},
   "source": [
    "## 2.7 Descrição Estatística"
   ]
  },
  {
   "cell_type": "code",
   "execution_count": 14,
   "id": "0e15032a",
   "metadata": {},
   "outputs": [],
   "source": [
    "num_attributes = df1.select_dtypes( include=['int64', 'float64'])\n",
    "cat_attributes = df1.select_dtypes( exclude=['int64', 'float64','datetime64[ns]'])"
   ]
  },
  {
   "cell_type": "markdown",
   "id": "9b359c37",
   "metadata": {},
   "source": [
    "## 2.7.1 Atributes Numericos"
   ]
  },
  {
   "cell_type": "code",
   "execution_count": null,
   "id": "bc23623c",
   "metadata": {},
   "outputs": [],
   "source": []
  },
  {
   "cell_type": "code",
   "execution_count": 15,
   "id": "708bf4c9",
   "metadata": {},
   "outputs": [],
   "source": [
    "#Tendencia Central - media , mediana\n",
    "ct1 = pd.DataFrame ( num_attributes.apply( np.mean ) ).T\n",
    "ct2 = pd.DataFrame ( num_attributes.apply( np.median ) ).T\n",
    "\n",
    "# Dispersão - std , max ,range , skew , kurtosis\n",
    "d1 = pd.DataFrame ( num_attributes.apply( np.std ) ).T\n",
    "d2 = pd.DataFrame ( num_attributes.apply( min ) ).T\n",
    "d3 = pd.DataFrame ( num_attributes.apply( max ) ).T\n",
    "d4 = pd.DataFrame ( num_attributes.apply( lambda x: x.max() - x.min() ) ).T\n",
    "d5 = pd.DataFrame ( num_attributes.apply( lambda x: x.skew() ) ).T\n",
    "d6 = pd.DataFrame ( num_attributes.apply( lambda x: x.kurtosis() - x.min() ) ).T\n",
    "\n",
    "#concatenar\n",
    "m = pd.concat( [d2,d3,d4,ct1,ct2,d1,d5,d6] ).T.reset_index()\n",
    "m.columns = ( ['attributes','min','max','range','mean','median','std','skew','kurtosis'])"
   ]
  },
  {
   "cell_type": "code",
   "execution_count": 16,
   "id": "4e2c85cd",
   "metadata": {},
   "outputs": [
    {
     "data": {
      "text/html": [
       "<div>\n",
       "<style scoped>\n",
       "    .dataframe tbody tr th:only-of-type {\n",
       "        vertical-align: middle;\n",
       "    }\n",
       "\n",
       "    .dataframe tbody tr th {\n",
       "        vertical-align: top;\n",
       "    }\n",
       "\n",
       "    .dataframe thead th {\n",
       "        text-align: right;\n",
       "    }\n",
       "</style>\n",
       "<table border=\"1\" class=\"dataframe\">\n",
       "  <thead>\n",
       "    <tr style=\"text-align: right;\">\n",
       "      <th></th>\n",
       "      <th>attributes</th>\n",
       "      <th>min</th>\n",
       "      <th>max</th>\n",
       "      <th>range</th>\n",
       "      <th>mean</th>\n",
       "      <th>median</th>\n",
       "      <th>std</th>\n",
       "      <th>skew</th>\n",
       "      <th>kurtosis</th>\n",
       "    </tr>\n",
       "  </thead>\n",
       "  <tbody>\n",
       "    <tr>\n",
       "      <th>0</th>\n",
       "      <td>store</td>\n",
       "      <td>1.0</td>\n",
       "      <td>1115.0</td>\n",
       "      <td>1114.0</td>\n",
       "      <td>558.429727</td>\n",
       "      <td>558.0</td>\n",
       "      <td>321.908493</td>\n",
       "      <td>-0.000955</td>\n",
       "      <td>-2.200524</td>\n",
       "    </tr>\n",
       "    <tr>\n",
       "      <th>1</th>\n",
       "      <td>day_of_week</td>\n",
       "      <td>1.0</td>\n",
       "      <td>7.0</td>\n",
       "      <td>6.0</td>\n",
       "      <td>3.998341</td>\n",
       "      <td>4.0</td>\n",
       "      <td>1.997390</td>\n",
       "      <td>0.001593</td>\n",
       "      <td>-2.246873</td>\n",
       "    </tr>\n",
       "    <tr>\n",
       "      <th>2</th>\n",
       "      <td>sales</td>\n",
       "      <td>0.0</td>\n",
       "      <td>41551.0</td>\n",
       "      <td>41551.0</td>\n",
       "      <td>5773.818972</td>\n",
       "      <td>5744.0</td>\n",
       "      <td>3849.924283</td>\n",
       "      <td>0.641460</td>\n",
       "      <td>1.778375</td>\n",
       "    </tr>\n",
       "    <tr>\n",
       "      <th>3</th>\n",
       "      <td>customers</td>\n",
       "      <td>0.0</td>\n",
       "      <td>7388.0</td>\n",
       "      <td>7388.0</td>\n",
       "      <td>633.145946</td>\n",
       "      <td>609.0</td>\n",
       "      <td>464.411506</td>\n",
       "      <td>1.598650</td>\n",
       "      <td>7.091773</td>\n",
       "    </tr>\n",
       "    <tr>\n",
       "      <th>4</th>\n",
       "      <td>open</td>\n",
       "      <td>0.0</td>\n",
       "      <td>1.0</td>\n",
       "      <td>1.0</td>\n",
       "      <td>0.830107</td>\n",
       "      <td>1.0</td>\n",
       "      <td>0.375539</td>\n",
       "      <td>-1.758045</td>\n",
       "      <td>1.090723</td>\n",
       "    </tr>\n",
       "    <tr>\n",
       "      <th>5</th>\n",
       "      <td>promo</td>\n",
       "      <td>0.0</td>\n",
       "      <td>1.0</td>\n",
       "      <td>1.0</td>\n",
       "      <td>0.381515</td>\n",
       "      <td>0.0</td>\n",
       "      <td>0.485758</td>\n",
       "      <td>0.487838</td>\n",
       "      <td>-1.762018</td>\n",
       "    </tr>\n",
       "    <tr>\n",
       "      <th>6</th>\n",
       "      <td>school_holiday</td>\n",
       "      <td>0.0</td>\n",
       "      <td>1.0</td>\n",
       "      <td>1.0</td>\n",
       "      <td>0.178647</td>\n",
       "      <td>0.0</td>\n",
       "      <td>0.383056</td>\n",
       "      <td>1.677842</td>\n",
       "      <td>0.815154</td>\n",
       "    </tr>\n",
       "    <tr>\n",
       "      <th>7</th>\n",
       "      <td>competition_distance</td>\n",
       "      <td>20.0</td>\n",
       "      <td>200000.0</td>\n",
       "      <td>199980.0</td>\n",
       "      <td>5935.442677</td>\n",
       "      <td>2330.0</td>\n",
       "      <td>12547.646829</td>\n",
       "      <td>10.242344</td>\n",
       "      <td>127.789712</td>\n",
       "    </tr>\n",
       "    <tr>\n",
       "      <th>8</th>\n",
       "      <td>competition_open_since_month</td>\n",
       "      <td>1.0</td>\n",
       "      <td>12.0</td>\n",
       "      <td>11.0</td>\n",
       "      <td>6.786849</td>\n",
       "      <td>7.0</td>\n",
       "      <td>3.311085</td>\n",
       "      <td>-0.042076</td>\n",
       "      <td>-2.232607</td>\n",
       "    </tr>\n",
       "    <tr>\n",
       "      <th>9</th>\n",
       "      <td>competition_open_since_year</td>\n",
       "      <td>1900.0</td>\n",
       "      <td>2015.0</td>\n",
       "      <td>115.0</td>\n",
       "      <td>2010.324840</td>\n",
       "      <td>2012.0</td>\n",
       "      <td>5.515591</td>\n",
       "      <td>-7.235657</td>\n",
       "      <td>-1775.928696</td>\n",
       "    </tr>\n",
       "    <tr>\n",
       "      <th>10</th>\n",
       "      <td>promo2</td>\n",
       "      <td>0.0</td>\n",
       "      <td>1.0</td>\n",
       "      <td>1.0</td>\n",
       "      <td>0.500564</td>\n",
       "      <td>1.0</td>\n",
       "      <td>0.500000</td>\n",
       "      <td>-0.002255</td>\n",
       "      <td>-1.999999</td>\n",
       "    </tr>\n",
       "    <tr>\n",
       "      <th>11</th>\n",
       "      <td>promo2_since_week</td>\n",
       "      <td>1.0</td>\n",
       "      <td>50.0</td>\n",
       "      <td>49.0</td>\n",
       "      <td>14.609864</td>\n",
       "      <td>10.0</td>\n",
       "      <td>13.423599</td>\n",
       "      <td>1.069912</td>\n",
       "      <td>-1.222811</td>\n",
       "    </tr>\n",
       "    <tr>\n",
       "      <th>12</th>\n",
       "      <td>promo2_since_year</td>\n",
       "      <td>2009.0</td>\n",
       "      <td>2015.0</td>\n",
       "      <td>6.0</td>\n",
       "      <td>2012.793297</td>\n",
       "      <td>2013.0</td>\n",
       "      <td>1.662657</td>\n",
       "      <td>-0.784436</td>\n",
       "      <td>-2009.210075</td>\n",
       "    </tr>\n",
       "    <tr>\n",
       "      <th>13</th>\n",
       "      <td>is_promo</td>\n",
       "      <td>0.0</td>\n",
       "      <td>1.0</td>\n",
       "      <td>1.0</td>\n",
       "      <td>0.155231</td>\n",
       "      <td>0.0</td>\n",
       "      <td>0.362124</td>\n",
       "      <td>1.904152</td>\n",
       "      <td>1.625796</td>\n",
       "    </tr>\n",
       "  </tbody>\n",
       "</table>\n",
       "</div>"
      ],
      "text/plain": [
       "                      attributes     min       max     range         mean  \\\n",
       "0                          store     1.0    1115.0    1114.0   558.429727   \n",
       "1                    day_of_week     1.0       7.0       6.0     3.998341   \n",
       "2                          sales     0.0   41551.0   41551.0  5773.818972   \n",
       "3                      customers     0.0    7388.0    7388.0   633.145946   \n",
       "4                           open     0.0       1.0       1.0     0.830107   \n",
       "5                          promo     0.0       1.0       1.0     0.381515   \n",
       "6                 school_holiday     0.0       1.0       1.0     0.178647   \n",
       "7           competition_distance    20.0  200000.0  199980.0  5935.442677   \n",
       "8   competition_open_since_month     1.0      12.0      11.0     6.786849   \n",
       "9    competition_open_since_year  1900.0    2015.0     115.0  2010.324840   \n",
       "10                        promo2     0.0       1.0       1.0     0.500564   \n",
       "11             promo2_since_week     1.0      50.0      49.0    14.609864   \n",
       "12             promo2_since_year  2009.0    2015.0       6.0  2012.793297   \n",
       "13                      is_promo     0.0       1.0       1.0     0.155231   \n",
       "\n",
       "    median           std       skew     kurtosis  \n",
       "0    558.0    321.908493  -0.000955    -2.200524  \n",
       "1      4.0      1.997390   0.001593    -2.246873  \n",
       "2   5744.0   3849.924283   0.641460     1.778375  \n",
       "3    609.0    464.411506   1.598650     7.091773  \n",
       "4      1.0      0.375539  -1.758045     1.090723  \n",
       "5      0.0      0.485758   0.487838    -1.762018  \n",
       "6      0.0      0.383056   1.677842     0.815154  \n",
       "7   2330.0  12547.646829  10.242344   127.789712  \n",
       "8      7.0      3.311085  -0.042076    -2.232607  \n",
       "9   2012.0      5.515591  -7.235657 -1775.928696  \n",
       "10     1.0      0.500000  -0.002255    -1.999999  \n",
       "11    10.0     13.423599   1.069912    -1.222811  \n",
       "12  2013.0      1.662657  -0.784436 -2009.210075  \n",
       "13     0.0      0.362124   1.904152     1.625796  "
      ]
     },
     "execution_count": 16,
     "metadata": {},
     "output_type": "execute_result"
    }
   ],
   "source": [
    "m"
   ]
  },
  {
   "cell_type": "code",
   "execution_count": 17,
   "id": "19a5451a",
   "metadata": {},
   "outputs": [
    {
     "name": "stderr",
     "output_type": "stream",
     "text": [
      "C:\\Users\\claud\\anaconda3\\envs\\ds_em_producao\\lib\\site-packages\\seaborn\\distributions.py:2619: FutureWarning: `distplot` is a deprecated function and will be removed in a future version. Please adapt your code to use either `displot` (a figure-level function with similar flexibility) or `histplot` (an axes-level function for histograms).\n",
      "  warnings.warn(msg, FutureWarning)\n"
     ]
    },
    {
     "data": {
      "text/plain": [
       "<AxesSubplot:xlabel='sales', ylabel='Density'>"
      ]
     },
     "execution_count": 17,
     "metadata": {},
     "output_type": "execute_result"
    },
    {
     "data": {
      "image/png": "[encoded data removed]",
      "text/plain": [
       "<Figure size 432x288 with 1 Axes>"
      ]
     },
     "metadata": {
      "needs_background": "light"
     },
     "output_type": "display_data"
    }
   ],
   "source": [
    "#verificar a distribuição das vendas\n",
    "sns.distplot( df1['sales'])"
   ]
  },
  {
   "cell_type": "code",
   "execution_count": 18,
   "id": "d806d758",
   "metadata": {},
   "outputs": [
    {
     "name": "stderr",
     "output_type": "stream",
     "text": [
      "C:\\Users\\claud\\anaconda3\\envs\\ds_em_producao\\lib\\site-packages\\seaborn\\distributions.py:2619: FutureWarning: `distplot` is a deprecated function and will be removed in a future version. Please adapt your code to use either `displot` (a figure-level function with similar flexibility) or `histplot` (an axes-level function for histograms).\n",
      "  warnings.warn(msg, FutureWarning)\n"
     ]
    },
    {
     "data": {
      "text/plain": [
       "<AxesSubplot:xlabel='competition_distance', ylabel='Density'>"
      ]
     },
     "execution_count": 18,
     "metadata": {},
     "output_type": "execute_result"
    },
    {
     "data": {
      "image/png": "[encoded data removed]",
      "text/plain": [
       "<Figure size 432x288 with 1 Axes>"
      ]
     },
     "metadata": {
      "needs_background": "light"
     },
     "output_type": "display_data"
    }
   ],
   "source": [
    "#verificar a distribuição dos competidores\n",
    "sns.distplot( df1['competition_distance'])"
   ]
  },
  {
   "cell_type": "markdown",
   "id": "866c86c0",
   "metadata": {},
   "source": [
    "## 2.7.2 Atributos Categóricas"
   ]
  },
  {
   "cell_type": "code",
   "execution_count": 19,
   "id": "c0aa4ff1",
   "metadata": {},
   "outputs": [
    {
     "data": {
      "text/plain": [
       "state_holiday      4\n",
       "store_type         4\n",
       "assortment         3\n",
       "promo_interval     4\n",
       "month_map         12\n",
       "dtype: int64"
      ]
     },
     "execution_count": 19,
     "metadata": {},
     "output_type": "execute_result"
    }
   ],
   "source": [
    "cat_attributes.apply(lambda x: x.unique().shape[0])"
   ]
  },
  {
   "cell_type": "code",
   "execution_count": 20,
   "id": "0a412992",
   "metadata": {},
   "outputs": [
    {
     "data": {
      "text/plain": [
       "<AxesSubplot:xlabel='assortment', ylabel='sales'>"
      ]
     },
     "execution_count": 20,
     "metadata": {},
     "output_type": "execute_result"
    },
    {
     "data": {
      "image/png": "[encoded data removed]",
      "text/plain": [
       "<Figure size 432x288 with 3 Axes>"
      ]
     },
     "metadata": {
      "needs_background": "light"
     },
     "output_type": "display_data"
    }
   ],
   "source": [
    "#eliminar dias 0 de venda(lojas fechadas)\n",
    "aux1 = df1[(df1['state_holiday'] != 0) & (df1['sales'] > 0 )]\n",
    "\n",
    "#plotar distirbuição de varaveis categoricas\n",
    "plt.subplot (1,3,1)\n",
    "sns.boxplot(x='state_holiday', y='sales', data=aux1)\n",
    "\n",
    "plt.subplot (1,3,2)\n",
    "sns.boxplot(x='store_type', y='sales', data=aux1)\n",
    "\n",
    "plt.subplot (1,3,3)\n",
    "sns.boxplot(x='assortment', y='sales', data=aux1)"
   ]
  },
  {
   "cell_type": "markdown",
   "id": "ddd81d23",
   "metadata": {},
   "source": [
    "# 3.0 Feature Engineering"
   ]
  },
  {
   "cell_type": "code",
   "execution_count": 21,
   "id": "22e0ef5e",
   "metadata": {},
   "outputs": [],
   "source": [
    "df2 = df1.copy()"
   ]
  },
  {
   "cell_type": "markdown",
   "id": "53ddd9d0",
   "metadata": {},
   "source": [
    "## 3.1 Mapa mental de hipóteses"
   ]
  },
  {
   "cell_type": "code",
   "execution_count": 22,
   "id": "e8af3084",
   "metadata": {},
   "outputs": [
    {
     "data": {
      "image/png": "[encoded data removed]",
      "text/plain": [
       "<IPython.core.display.Image object>"
      ]
     },
     "execution_count": 22,
     "metadata": {},
     "output_type": "execute_result"
    }
   ],
   "source": [
    "Image( 'img/VENDAS_DE_LOJAS.png')"
   ]
  },
  {
   "cell_type": "markdown",
   "id": "1b5acc6e",
   "metadata": {},
   "source": [
    "## 3.2 criação das hipoteses"
   ]
  },
  {
   "cell_type": "markdown",
   "id": "9fd5cfd5",
   "metadata": {},
   "source": [
    "### 3.2.1 Hipoteses Loja"
   ]
  },
  {
   "cell_type": "markdown",
   "id": "35fbcae6",
   "metadata": {},
   "source": [
    "**1.** Lojas com maior quadro de funcionários deveriam vender mais.\n",
    "\n",
    "**2.** Lojas com maior capacidade estoque deveriam vender mais.\n",
    "\n",
    "**3.** Lojas com maior porte deveriam vender mais\n",
    "\n",
    "**4.** Lojas com maior sortimento deveriam vender mais\n",
    "\n",
    "**5.** Lojas com competidores mais perto deveriam vender menos.\n",
    "\n",
    "**6.** Lojas com competidores à mais tempo deveriam vender mais."
   ]
  },
  {
   "cell_type": "markdown",
   "id": "cfa06971",
   "metadata": {},
   "source": [
    "### 3.2.2 Hipoteses Produto"
   ]
  },
  {
   "cell_type": "markdown",
   "id": "b46c29bd",
   "metadata": {},
   "source": [
    "**1.** Lojas que investem mais em marketing deveriam vender mais\n",
    "\n",
    "**2.** Lojas que espoem mais o produto nas vistrines deveriam vender mais\n",
    "\n",
    "**3.** Lojas que tem preços menores deveriam vender mais.\n",
    "\n",
    "**4.** Lojas que tem preços menores por mais tempo nos produtos deveriam vender mais.\n",
    "\n",
    "**5.** Lojas com promoções mais agrresivas (descontos maiores) deveriam vender mais\n",
    "\n",
    "**6.** Lojas com promoções ativas por mais tempo deveriam vender mais\n",
    "\n",
    "**7.** Lojas com maior dias de promoção deveriam vender mais\n",
    "\n",
    "**8.** Lojas com mais promoções consecutivas deveriam vender mais"
   ]
  },
  {
   "cell_type": "markdown",
   "id": "6f555387",
   "metadata": {},
   "source": [
    "### 3.2.3 Hipoteses Tempo"
   ]
  },
  {
   "cell_type": "markdown",
   "id": "aff69695",
   "metadata": {},
   "source": [
    "**1.** Lojas abertas durante o feriado dde natal deveriam vender mais\n",
    "\n",
    "**2.** Lojas deveriam vender mais ao longo dos anos\n",
    "\n",
    "**3.** Lojas deveriam vender mais no segundo semestre do ano\n",
    "\n",
    "**4.** Lojas deveriam vender mais depois do dia 10 de cada mÊs\n",
    "\n",
    "**5.** Lojas deveriam vender menos aos finais de semana\n",
    "\n",
    "**6.** Lojas deveriam vender menos durantes os feriados escolares"
   ]
  },
  {
   "cell_type": "markdown",
   "id": "0c0ee4d6",
   "metadata": {},
   "source": [
    "## 3.2 Lista Final de Hipoteses"
   ]
  },
  {
   "cell_type": "markdown",
   "id": "3327caab",
   "metadata": {},
   "source": [
    "**1.** Lojas com maior sortimento deveriam vender mais\n",
    "\n",
    "**2.** Lojas com competidores mais perto deveriam vender menos.\n",
    "\n",
    "**3.** Lojas com competidores à mais tempo deveriam vender mais.\n",
    "\n",
    "**4** Lojas com promoções ativas por mais tempo deveriam vender mais\n",
    "\n",
    "**5.** Lojas com maior dias de promoção deveriam vender mais\n",
    "\n",
    "**6.** Lojas com mais promoções consecutivas deveriam vender mais\n",
    "\n",
    "**8.** Lojas abertas durante o feriado dde natal deveriam vender mais\n",
    "\n",
    "**9.** Lojas deveriam vender mais ao longo dos anos\n",
    "\n",
    "**10.** Lojas deveriam vender mais no segundo semestre do ano\n",
    "\n",
    "**11.** Lojas deveriam vender mais depois do dia 10 de cada mÊs\n",
    "\n",
    "**12.** Lojas deveriam vender menos aos finais de semana\n",
    "\n",
    "**13.** Lojas deveriam vender menos durantes os feriados escolares"
   ]
  },
  {
   "cell_type": "markdown",
   "id": "928f5280",
   "metadata": {},
   "source": [
    "## 3.3 Feature Engineering"
   ]
  },
  {
   "cell_type": "code",
   "execution_count": 23,
   "id": "af3cec3a",
   "metadata": {},
   "outputs": [
    {
     "data": {
      "text/plain": [
       "array([2008, 2007, 2006, 2009, 2015, 2013, 2014, 2000, 2011, 2010, 2005,\n",
       "       1999, 2003, 2012, 2004, 2002, 1961, 1995, 2001, 1990, 1994, 1900,\n",
       "       1998], dtype=int64)"
      ]
     },
     "execution_count": 23,
     "metadata": {},
     "output_type": "execute_result"
    }
   ],
   "source": [
    "df1['competition_open_since_year'].unique()"
   ]
  },
  {
   "cell_type": "code",
   "execution_count": 24,
   "id": "96c2ea3c",
   "metadata": {},
   "outputs": [
    {
     "name": "stderr",
     "output_type": "stream",
     "text": [
      "C:\\Users\\claud\\AppData\\Local\\Temp/ipykernel_3408/59108560.py:11: FutureWarning: Series.dt.weekofyear and Series.dt.week have been deprecated. Please use Series.dt.isocalendar().week instead.\n",
      "  df2['week_of_year'] = df2['date'].dt.weekofyear\n"
     ]
    }
   ],
   "source": [
    "# year\n",
    "df2['year'] = df2['date'].dt.year\n",
    "\n",
    "# month\n",
    "df2['month'] = df2['date'].dt.month\n",
    "\n",
    "#day\n",
    "df2['day'] = df2['date'].dt.day\n",
    "\n",
    "#week of yeardf2['year'] = df2['date'].dt.year\n",
    "df2['week_of_year'] = df2['date'].dt.weekofyear\n",
    "\n",
    "#year week\n",
    "df2['year_week'] = df2['date'].dt.strftime( '%Y-%W' )\n",
    "\n",
    "#competition since juntar colunas para formar data\n",
    "df2['competition_since'] = df2.apply(lambda x: datetime.datetime(year=x['competition_open_since_year'] , month=x['competition_open_since_month'], day=1), axis=1 )\n",
    "                                \n",
    "df2['competition_time_month'] = (( df2['date'] - df2['competition_since'])/ 30 ).apply( lambda x: x.days).astype( int )\n",
    "\n",
    "#promo since\n",
    "df2['promo_since'] = df2['promo2_since_year'].astype(str) + '-' + df2['promo2_since_week'].astype(str)\n",
    "\n",
    "df2['promo_since'] = df2['promo_since'].apply(lambda x: datetime.datetime.strptime( x + '-1', '%Y-%W-%w') - datetime.timedelta( days=7) )\n",
    "df2['promo_time_week'] = ( ( df2['date'] - df2['promo_since'] ) /7).apply( lambda x: x.days).astype( int)\n",
    "\n",
    "#assortment\n",
    "df2['assortment'] = df2['assortment'].apply(lambda x: 'basic' if x == 'a' else 'extra' if x == 'b' else 'extended')\n",
    "\n",
    "#state holiday\n",
    "df2['state_holiday'] = df2['state_holiday'].apply( lambda x: 'public_holiday' if x == 'a' else 'easter_holiday' if x == 'b' else 'christmas' if x == 'c' else 'regular_day')"
   ]
  },
  {
   "cell_type": "code",
   "execution_count": 25,
   "id": "b8104152",
   "metadata": {},
   "outputs": [
    {
     "data": {
      "text/html": [
       "<div>\n",
       "<style scoped>\n",
       "    .dataframe tbody tr th:only-of-type {\n",
       "        vertical-align: middle;\n",
       "    }\n",
       "\n",
       "    .dataframe tbody tr th {\n",
       "        vertical-align: top;\n",
       "    }\n",
       "\n",
       "    .dataframe thead th {\n",
       "        text-align: right;\n",
       "    }\n",
       "</style>\n",
       "<table border=\"1\" class=\"dataframe\">\n",
       "  <thead>\n",
       "    <tr style=\"text-align: right;\">\n",
       "      <th></th>\n",
       "      <th>0</th>\n",
       "      <th>1</th>\n",
       "      <th>2</th>\n",
       "      <th>3</th>\n",
       "      <th>4</th>\n",
       "    </tr>\n",
       "  </thead>\n",
       "  <tbody>\n",
       "    <tr>\n",
       "      <th>store</th>\n",
       "      <td>1</td>\n",
       "      <td>2</td>\n",
       "      <td>3</td>\n",
       "      <td>4</td>\n",
       "      <td>5</td>\n",
       "    </tr>\n",
       "    <tr>\n",
       "      <th>day_of_week</th>\n",
       "      <td>5</td>\n",
       "      <td>5</td>\n",
       "      <td>5</td>\n",
       "      <td>5</td>\n",
       "      <td>5</td>\n",
       "    </tr>\n",
       "    <tr>\n",
       "      <th>date</th>\n",
       "      <td>2015-07-31 00:00:00</td>\n",
       "      <td>2015-07-31 00:00:00</td>\n",
       "      <td>2015-07-31 00:00:00</td>\n",
       "      <td>2015-07-31 00:00:00</td>\n",
       "      <td>2015-07-31 00:00:00</td>\n",
       "    </tr>\n",
       "    <tr>\n",
       "      <th>sales</th>\n",
       "      <td>5263</td>\n",
       "      <td>6064</td>\n",
       "      <td>8314</td>\n",
       "      <td>13995</td>\n",
       "      <td>4822</td>\n",
       "    </tr>\n",
       "    <tr>\n",
       "      <th>customers</th>\n",
       "      <td>555</td>\n",
       "      <td>625</td>\n",
       "      <td>821</td>\n",
       "      <td>1498</td>\n",
       "      <td>559</td>\n",
       "    </tr>\n",
       "    <tr>\n",
       "      <th>open</th>\n",
       "      <td>1</td>\n",
       "      <td>1</td>\n",
       "      <td>1</td>\n",
       "      <td>1</td>\n",
       "      <td>1</td>\n",
       "    </tr>\n",
       "    <tr>\n",
       "      <th>promo</th>\n",
       "      <td>1</td>\n",
       "      <td>1</td>\n",
       "      <td>1</td>\n",
       "      <td>1</td>\n",
       "      <td>1</td>\n",
       "    </tr>\n",
       "    <tr>\n",
       "      <th>state_holiday</th>\n",
       "      <td>regular_day</td>\n",
       "      <td>regular_day</td>\n",
       "      <td>regular_day</td>\n",
       "      <td>regular_day</td>\n",
       "      <td>regular_day</td>\n",
       "    </tr>\n",
       "    <tr>\n",
       "      <th>school_holiday</th>\n",
       "      <td>1</td>\n",
       "      <td>1</td>\n",
       "      <td>1</td>\n",
       "      <td>1</td>\n",
       "      <td>1</td>\n",
       "    </tr>\n",
       "    <tr>\n",
       "      <th>store_type</th>\n",
       "      <td>c</td>\n",
       "      <td>a</td>\n",
       "      <td>a</td>\n",
       "      <td>c</td>\n",
       "      <td>a</td>\n",
       "    </tr>\n",
       "    <tr>\n",
       "      <th>assortment</th>\n",
       "      <td>basic</td>\n",
       "      <td>basic</td>\n",
       "      <td>basic</td>\n",
       "      <td>extended</td>\n",
       "      <td>basic</td>\n",
       "    </tr>\n",
       "    <tr>\n",
       "      <th>competition_distance</th>\n",
       "      <td>1270.0</td>\n",
       "      <td>570.0</td>\n",
       "      <td>14130.0</td>\n",
       "      <td>620.0</td>\n",
       "      <td>29910.0</td>\n",
       "    </tr>\n",
       "    <tr>\n",
       "      <th>competition_open_since_month</th>\n",
       "      <td>9</td>\n",
       "      <td>11</td>\n",
       "      <td>12</td>\n",
       "      <td>9</td>\n",
       "      <td>4</td>\n",
       "    </tr>\n",
       "    <tr>\n",
       "      <th>competition_open_since_year</th>\n",
       "      <td>2008</td>\n",
       "      <td>2007</td>\n",
       "      <td>2006</td>\n",
       "      <td>2009</td>\n",
       "      <td>2015</td>\n",
       "    </tr>\n",
       "    <tr>\n",
       "      <th>promo2</th>\n",
       "      <td>0</td>\n",
       "      <td>1</td>\n",
       "      <td>1</td>\n",
       "      <td>0</td>\n",
       "      <td>0</td>\n",
       "    </tr>\n",
       "    <tr>\n",
       "      <th>promo2_since_week</th>\n",
       "      <td>7</td>\n",
       "      <td>13</td>\n",
       "      <td>14</td>\n",
       "      <td>7</td>\n",
       "      <td>7</td>\n",
       "    </tr>\n",
       "    <tr>\n",
       "      <th>promo2_since_year</th>\n",
       "      <td>2015</td>\n",
       "      <td>2010</td>\n",
       "      <td>2011</td>\n",
       "      <td>2015</td>\n",
       "      <td>2015</td>\n",
       "    </tr>\n",
       "    <tr>\n",
       "      <th>promo_interval</th>\n",
       "      <td>0</td>\n",
       "      <td>Jan,Apr,Jul,Oct</td>\n",
       "      <td>Jan,Apr,Jul,Oct</td>\n",
       "      <td>0</td>\n",
       "      <td>0</td>\n",
       "    </tr>\n",
       "    <tr>\n",
       "      <th>month_map</th>\n",
       "      <td>Jul</td>\n",
       "      <td>Jul</td>\n",
       "      <td>Jul</td>\n",
       "      <td>Jul</td>\n",
       "      <td>Jul</td>\n",
       "    </tr>\n",
       "    <tr>\n",
       "      <th>is_promo</th>\n",
       "      <td>0</td>\n",
       "      <td>1</td>\n",
       "      <td>1</td>\n",
       "      <td>0</td>\n",
       "      <td>0</td>\n",
       "    </tr>\n",
       "    <tr>\n",
       "      <th>year</th>\n",
       "      <td>2015</td>\n",
       "      <td>2015</td>\n",
       "      <td>2015</td>\n",
       "      <td>2015</td>\n",
       "      <td>2015</td>\n",
       "    </tr>\n",
       "    <tr>\n",
       "      <th>month</th>\n",
       "      <td>7</td>\n",
       "      <td>7</td>\n",
       "      <td>7</td>\n",
       "      <td>7</td>\n",
       "      <td>7</td>\n",
       "    </tr>\n",
       "    <tr>\n",
       "      <th>day</th>\n",
       "      <td>31</td>\n",
       "      <td>31</td>\n",
       "      <td>31</td>\n",
       "      <td>31</td>\n",
       "      <td>31</td>\n",
       "    </tr>\n",
       "    <tr>\n",
       "      <th>week_of_year</th>\n",
       "      <td>31</td>\n",
       "      <td>31</td>\n",
       "      <td>31</td>\n",
       "      <td>31</td>\n",
       "      <td>31</td>\n",
       "    </tr>\n",
       "    <tr>\n",
       "      <th>year_week</th>\n",
       "      <td>2015-30</td>\n",
       "      <td>2015-30</td>\n",
       "      <td>2015-30</td>\n",
       "      <td>2015-30</td>\n",
       "      <td>2015-30</td>\n",
       "    </tr>\n",
       "    <tr>\n",
       "      <th>competition_since</th>\n",
       "      <td>2008-09-01 00:00:00</td>\n",
       "      <td>2007-11-01 00:00:00</td>\n",
       "      <td>2006-12-01 00:00:00</td>\n",
       "      <td>2009-09-01 00:00:00</td>\n",
       "      <td>2015-04-01 00:00:00</td>\n",
       "    </tr>\n",
       "    <tr>\n",
       "      <th>competition_time_month</th>\n",
       "      <td>84</td>\n",
       "      <td>94</td>\n",
       "      <td>105</td>\n",
       "      <td>71</td>\n",
       "      <td>4</td>\n",
       "    </tr>\n",
       "    <tr>\n",
       "      <th>promo_since</th>\n",
       "      <td>2015-02-09 00:00:00</td>\n",
       "      <td>2010-03-22 00:00:00</td>\n",
       "      <td>2011-03-28 00:00:00</td>\n",
       "      <td>2015-02-09 00:00:00</td>\n",
       "      <td>2015-02-09 00:00:00</td>\n",
       "    </tr>\n",
       "    <tr>\n",
       "      <th>promo_time_week</th>\n",
       "      <td>24</td>\n",
       "      <td>279</td>\n",
       "      <td>226</td>\n",
       "      <td>24</td>\n",
       "      <td>24</td>\n",
       "    </tr>\n",
       "  </tbody>\n",
       "</table>\n",
       "</div>"
      ],
      "text/plain": [
       "                                                0                    1  \\\n",
       "store                                           1                    2   \n",
       "day_of_week                                     5                    5   \n",
       "date                          2015-07-31 00:00:00  2015-07-31 00:00:00   \n",
       "sales                                        5263                 6064   \n",
       "customers                                     555                  625   \n",
       "open                                            1                    1   \n",
       "promo                                           1                    1   \n",
       "state_holiday                         regular_day          regular_day   \n",
       "school_holiday                                  1                    1   \n",
       "store_type                                      c                    a   \n",
       "assortment                                  basic                basic   \n",
       "competition_distance                       1270.0                570.0   \n",
       "competition_open_since_month                    9                   11   \n",
       "competition_open_since_year                  2008                 2007   \n",
       "promo2                                          0                    1   \n",
       "promo2_since_week                               7                   13   \n",
       "promo2_since_year                            2015                 2010   \n",
       "promo_interval                                  0      Jan,Apr,Jul,Oct   \n",
       "month_map                                     Jul                  Jul   \n",
       "is_promo                                        0                    1   \n",
       "year                                         2015                 2015   \n",
       "month                                           7                    7   \n",
       "day                                            31                   31   \n",
       "week_of_year                                   31                   31   \n",
       "year_week                                 2015-30              2015-30   \n",
       "competition_since             2008-09-01 00:00:00  2007-11-01 00:00:00   \n",
       "competition_time_month                         84                   94   \n",
       "promo_since                   2015-02-09 00:00:00  2010-03-22 00:00:00   \n",
       "promo_time_week                                24                  279   \n",
       "\n",
       "                                                2                    3  \\\n",
       "store                                           3                    4   \n",
       "day_of_week                                     5                    5   \n",
       "date                          2015-07-31 00:00:00  2015-07-31 00:00:00   \n",
       "sales                                        8314                13995   \n",
       "customers                                     821                 1498   \n",
       "open                                            1                    1   \n",
       "promo                                           1                    1   \n",
       "state_holiday                         regular_day          regular_day   \n",
       "school_holiday                                  1                    1   \n",
       "store_type                                      a                    c   \n",
       "assortment                                  basic             extended   \n",
       "competition_distance                      14130.0                620.0   \n",
       "competition_open_since_month                   12                    9   \n",
       "competition_open_since_year                  2006                 2009   \n",
       "promo2                                          1                    0   \n",
       "promo2_since_week                              14                    7   \n",
       "promo2_since_year                            2011                 2015   \n",
       "promo_interval                    Jan,Apr,Jul,Oct                    0   \n",
       "month_map                                     Jul                  Jul   \n",
       "is_promo                                        1                    0   \n",
       "year                                         2015                 2015   \n",
       "month                                           7                    7   \n",
       "day                                            31                   31   \n",
       "week_of_year                                   31                   31   \n",
       "year_week                                 2015-30              2015-30   \n",
       "competition_since             2006-12-01 00:00:00  2009-09-01 00:00:00   \n",
       "competition_time_month                        105                   71   \n",
       "promo_since                   2011-03-28 00:00:00  2015-02-09 00:00:00   \n",
       "promo_time_week                               226                   24   \n",
       "\n",
       "                                                4  \n",
       "store                                           5  \n",
       "day_of_week                                     5  \n",
       "date                          2015-07-31 00:00:00  \n",
       "sales                                        4822  \n",
       "customers                                     559  \n",
       "open                                            1  \n",
       "promo                                           1  \n",
       "state_holiday                         regular_day  \n",
       "school_holiday                                  1  \n",
       "store_type                                      a  \n",
       "assortment                                  basic  \n",
       "competition_distance                      29910.0  \n",
       "competition_open_since_month                    4  \n",
       "competition_open_since_year                  2015  \n",
       "promo2                                          0  \n",
       "promo2_since_week                               7  \n",
       "promo2_since_year                            2015  \n",
       "promo_interval                                  0  \n",
       "month_map                                     Jul  \n",
       "is_promo                                        0  \n",
       "year                                         2015  \n",
       "month                                           7  \n",
       "day                                            31  \n",
       "week_of_year                                   31  \n",
       "year_week                                 2015-30  \n",
       "competition_since             2015-04-01 00:00:00  \n",
       "competition_time_month                          4  \n",
       "promo_since                   2015-02-09 00:00:00  \n",
       "promo_time_week                                24  "
      ]
     },
     "execution_count": 25,
     "metadata": {},
     "output_type": "execute_result"
    }
   ],
   "source": [
    "df2.head().T"
   ]
  },
  {
   "cell_type": "markdown",
   "id": "07e793c1",
   "metadata": {},
   "source": [
    "# 4.0 Passo 4 - Filtragem de Variáveis"
   ]
  },
  {
   "cell_type": "code",
   "execution_count": 26,
   "id": "764989f0",
   "metadata": {},
   "outputs": [],
   "source": [
    "df3 = df2.copy()"
   ]
  },
  {
   "cell_type": "code",
   "execution_count": 27,
   "id": "1a370577",
   "metadata": {},
   "outputs": [
    {
     "data": {
      "text/html": [
       "<div>\n",
       "<style scoped>\n",
       "    .dataframe tbody tr th:only-of-type {\n",
       "        vertical-align: middle;\n",
       "    }\n",
       "\n",
       "    .dataframe tbody tr th {\n",
       "        vertical-align: top;\n",
       "    }\n",
       "\n",
       "    .dataframe thead th {\n",
       "        text-align: right;\n",
       "    }\n",
       "</style>\n",
       "<table border=\"1\" class=\"dataframe\">\n",
       "  <thead>\n",
       "    <tr style=\"text-align: right;\">\n",
       "      <th></th>\n",
       "      <th>store</th>\n",
       "      <th>day_of_week</th>\n",
       "      <th>date</th>\n",
       "      <th>sales</th>\n",
       "      <th>customers</th>\n",
       "      <th>open</th>\n",
       "      <th>promo</th>\n",
       "      <th>state_holiday</th>\n",
       "      <th>school_holiday</th>\n",
       "      <th>store_type</th>\n",
       "      <th>...</th>\n",
       "      <th>is_promo</th>\n",
       "      <th>year</th>\n",
       "      <th>month</th>\n",
       "      <th>day</th>\n",
       "      <th>week_of_year</th>\n",
       "      <th>year_week</th>\n",
       "      <th>competition_since</th>\n",
       "      <th>competition_time_month</th>\n",
       "      <th>promo_since</th>\n",
       "      <th>promo_time_week</th>\n",
       "    </tr>\n",
       "  </thead>\n",
       "  <tbody>\n",
       "    <tr>\n",
       "      <th>0</th>\n",
       "      <td>1</td>\n",
       "      <td>5</td>\n",
       "      <td>2015-07-31</td>\n",
       "      <td>5263</td>\n",
       "      <td>555</td>\n",
       "      <td>1</td>\n",
       "      <td>1</td>\n",
       "      <td>regular_day</td>\n",
       "      <td>1</td>\n",
       "      <td>c</td>\n",
       "      <td>...</td>\n",
       "      <td>0</td>\n",
       "      <td>2015</td>\n",
       "      <td>7</td>\n",
       "      <td>31</td>\n",
       "      <td>31</td>\n",
       "      <td>2015-30</td>\n",
       "      <td>2008-09-01</td>\n",
       "      <td>84</td>\n",
       "      <td>2015-02-09</td>\n",
       "      <td>24</td>\n",
       "    </tr>\n",
       "    <tr>\n",
       "      <th>1</th>\n",
       "      <td>2</td>\n",
       "      <td>5</td>\n",
       "      <td>2015-07-31</td>\n",
       "      <td>6064</td>\n",
       "      <td>625</td>\n",
       "      <td>1</td>\n",
       "      <td>1</td>\n",
       "      <td>regular_day</td>\n",
       "      <td>1</td>\n",
       "      <td>a</td>\n",
       "      <td>...</td>\n",
       "      <td>1</td>\n",
       "      <td>2015</td>\n",
       "      <td>7</td>\n",
       "      <td>31</td>\n",
       "      <td>31</td>\n",
       "      <td>2015-30</td>\n",
       "      <td>2007-11-01</td>\n",
       "      <td>94</td>\n",
       "      <td>2010-03-22</td>\n",
       "      <td>279</td>\n",
       "    </tr>\n",
       "    <tr>\n",
       "      <th>2</th>\n",
       "      <td>3</td>\n",
       "      <td>5</td>\n",
       "      <td>2015-07-31</td>\n",
       "      <td>8314</td>\n",
       "      <td>821</td>\n",
       "      <td>1</td>\n",
       "      <td>1</td>\n",
       "      <td>regular_day</td>\n",
       "      <td>1</td>\n",
       "      <td>a</td>\n",
       "      <td>...</td>\n",
       "      <td>1</td>\n",
       "      <td>2015</td>\n",
       "      <td>7</td>\n",
       "      <td>31</td>\n",
       "      <td>31</td>\n",
       "      <td>2015-30</td>\n",
       "      <td>2006-12-01</td>\n",
       "      <td>105</td>\n",
       "      <td>2011-03-28</td>\n",
       "      <td>226</td>\n",
       "    </tr>\n",
       "    <tr>\n",
       "      <th>3</th>\n",
       "      <td>4</td>\n",
       "      <td>5</td>\n",
       "      <td>2015-07-31</td>\n",
       "      <td>13995</td>\n",
       "      <td>1498</td>\n",
       "      <td>1</td>\n",
       "      <td>1</td>\n",
       "      <td>regular_day</td>\n",
       "      <td>1</td>\n",
       "      <td>c</td>\n",
       "      <td>...</td>\n",
       "      <td>0</td>\n",
       "      <td>2015</td>\n",
       "      <td>7</td>\n",
       "      <td>31</td>\n",
       "      <td>31</td>\n",
       "      <td>2015-30</td>\n",
       "      <td>2009-09-01</td>\n",
       "      <td>71</td>\n",
       "      <td>2015-02-09</td>\n",
       "      <td>24</td>\n",
       "    </tr>\n",
       "    <tr>\n",
       "      <th>4</th>\n",
       "      <td>5</td>\n",
       "      <td>5</td>\n",
       "      <td>2015-07-31</td>\n",
       "      <td>4822</td>\n",
       "      <td>559</td>\n",
       "      <td>1</td>\n",
       "      <td>1</td>\n",
       "      <td>regular_day</td>\n",
       "      <td>1</td>\n",
       "      <td>a</td>\n",
       "      <td>...</td>\n",
       "      <td>0</td>\n",
       "      <td>2015</td>\n",
       "      <td>7</td>\n",
       "      <td>31</td>\n",
       "      <td>31</td>\n",
       "      <td>2015-30</td>\n",
       "      <td>2015-04-01</td>\n",
       "      <td>4</td>\n",
       "      <td>2015-02-09</td>\n",
       "      <td>24</td>\n",
       "    </tr>\n",
       "  </tbody>\n",
       "</table>\n",
       "<p>5 rows × 29 columns</p>\n",
       "</div>"
      ],
      "text/plain": [
       "   store  day_of_week       date  sales  customers  open  promo state_holiday  \\\n",
       "0      1            5 2015-07-31   5263        555     1      1   regular_day   \n",
       "1      2            5 2015-07-31   6064        625     1      1   regular_day   \n",
       "2      3            5 2015-07-31   8314        821     1      1   regular_day   \n",
       "3      4            5 2015-07-31  13995       1498     1      1   regular_day   \n",
       "4      5            5 2015-07-31   4822        559     1      1   regular_day   \n",
       "\n",
       "   school_holiday store_type  ... is_promo  year  month  day  week_of_year  \\\n",
       "0               1          c  ...        0  2015      7   31            31   \n",
       "1               1          a  ...        1  2015      7   31            31   \n",
       "2               1          a  ...        1  2015      7   31            31   \n",
       "3               1          c  ...        0  2015      7   31            31   \n",
       "4               1          a  ...        0  2015      7   31            31   \n",
       "\n",
       "   year_week  competition_since competition_time_month promo_since  \\\n",
       "0    2015-30         2008-09-01                     84  2015-02-09   \n",
       "1    2015-30         2007-11-01                     94  2010-03-22   \n",
       "2    2015-30         2006-12-01                    105  2011-03-28   \n",
       "3    2015-30         2009-09-01                     71  2015-02-09   \n",
       "4    2015-30         2015-04-01                      4  2015-02-09   \n",
       "\n",
       "   promo_time_week  \n",
       "0               24  \n",
       "1              279  \n",
       "2              226  \n",
       "3               24  \n",
       "4               24  \n",
       "\n",
       "[5 rows x 29 columns]"
      ]
     },
     "execution_count": 27,
     "metadata": {},
     "output_type": "execute_result"
    }
   ],
   "source": [
    "df3.head()"
   ]
  },
  {
   "cell_type": "markdown",
   "id": "96d77ede",
   "metadata": {},
   "source": [
    "## 4.1 - Filtragem das Linhas"
   ]
  },
  {
   "cell_type": "code",
   "execution_count": 28,
   "id": "f88ef629",
   "metadata": {},
   "outputs": [],
   "source": [
    "df3 = df3[ (df3['open'] != 0 ) &  (df3['sales'] > 0) ]"
   ]
  },
  {
   "cell_type": "markdown",
   "id": "89fabd53",
   "metadata": {},
   "source": [
    "## 4.2 - Seleção das Colunas"
   ]
  },
  {
   "cell_type": "code",
   "execution_count": 29,
   "id": "ebe08c81",
   "metadata": {},
   "outputs": [],
   "source": [
    "cols_drop = ['customers','open','promo_interval','month_map']\n",
    "df3 = df3.drop(cols_drop, axis=1)"
   ]
  },
  {
   "cell_type": "code",
   "execution_count": 30,
   "id": "87177dcd",
   "metadata": {},
   "outputs": [
    {
     "data": {
      "text/plain": [
       "Index(['store', 'day_of_week', 'date', 'sales', 'promo', 'state_holiday',\n",
       "       'school_holiday', 'store_type', 'assortment', 'competition_distance',\n",
       "       'competition_open_since_month', 'competition_open_since_year', 'promo2',\n",
       "       'promo2_since_week', 'promo2_since_year', 'is_promo', 'year', 'month',\n",
       "       'day', 'week_of_year', 'year_week', 'competition_since',\n",
       "       'competition_time_month', 'promo_since', 'promo_time_week'],\n",
       "      dtype='object')"
      ]
     },
     "execution_count": 30,
     "metadata": {},
     "output_type": "execute_result"
    }
   ],
   "source": [
    "df3.columns"
   ]
  },
  {
   "cell_type": "markdown",
   "id": "d88bc9f4",
   "metadata": {},
   "source": [
    "# 5.0 - Análise exploratória dos daddos"
   ]
  },
  {
   "cell_type": "code",
   "execution_count": 31,
   "id": "fc6c45b1",
   "metadata": {},
   "outputs": [],
   "source": [
    "df4 = df3.copy()"
   ]
  },
  {
   "cell_type": "markdown",
   "id": "f13cb009",
   "metadata": {},
   "source": [
    "## 5.1 - Análise Univariada"
   ]
  },
  {
   "cell_type": "markdown",
   "id": "76e7dc2a",
   "metadata": {},
   "source": [
    "### 5.1.1 - Response Variable"
   ]
  },
  {
   "cell_type": "code",
   "execution_count": 32,
   "id": "88cfa1e6",
   "metadata": {},
   "outputs": [
    {
     "name": "stderr",
     "output_type": "stream",
     "text": [
      "C:\\Users\\claud\\anaconda3\\envs\\ds_em_producao\\lib\\site-packages\\seaborn\\distributions.py:2619: FutureWarning: `distplot` is a deprecated function and will be removed in a future version. Please adapt your code to use either `displot` (a figure-level function with similar flexibility) or `histplot` (an axes-level function for histograms).\n",
      "  warnings.warn(msg, FutureWarning)\n"
     ]
    },
    {
     "data": {
      "text/plain": [
       "<AxesSubplot:xlabel='sales', ylabel='Density'>"
      ]
     },
     "execution_count": 32,
     "metadata": {},
     "output_type": "execute_result"
    },
    {
     "data": {
      "image/png": "[encoded data removed]",
      "text/plain": [
       "<Figure size 432x288 with 1 Axes>"
      ]
     },
     "metadata": {
      "needs_background": "light"
     },
     "output_type": "display_data"
    }
   ],
   "source": [
    "sns.distplot (df4['sales'])"
   ]
  },
  {
   "cell_type": "markdown",
   "id": "01e4ed30",
   "metadata": {},
   "source": [
    "### 5.1.2 - Numerical Variable"
   ]
  },
  {
   "cell_type": "code",
   "execution_count": 33,
   "id": "b355ae65",
   "metadata": {},
   "outputs": [
    {
     "data": {
      "image/png": "[encoded data removed]",
      "text/plain": [
       "<Figure size 432x288 with 16 Axes>"
      ]
     },
     "metadata": {
      "needs_background": "light"
     },
     "output_type": "display_data"
    }
   ],
   "source": [
    "num_attributes.hist(bins=25);"
   ]
  },
  {
   "cell_type": "markdown",
   "id": "dc60e662",
   "metadata": {},
   "source": [
    "### 5.1.3 - Categorical Variable"
   ]
  },
  {
   "cell_type": "code",
   "execution_count": 34,
   "id": "016c5717",
   "metadata": {},
   "outputs": [
    {
     "data": {
      "text/plain": [
       "0            regular_day\n",
       "63559     public_holiday\n",
       "129424    easter_holiday\n",
       "241126         christmas\n",
       "Name: state_holiday, dtype: object"
      ]
     },
     "execution_count": 34,
     "metadata": {},
     "output_type": "execute_result"
    }
   ],
   "source": [
    "df4['state_holiday'].drop_duplicates()"
   ]
  },
  {
   "cell_type": "code",
   "execution_count": 35,
   "id": "1f1bd85b",
   "metadata": {},
   "outputs": [
    {
     "name": "stderr",
     "output_type": "stream",
     "text": [
      "C:\\Users\\claud\\anaconda3\\envs\\ds_em_producao\\lib\\site-packages\\seaborn\\_decorators.py:36: FutureWarning: Pass the following variable as a keyword arg: x. From version 0.12, the only valid positional argument will be `data`, and passing other arguments without an explicit keyword will result in an error or misinterpretation.\n",
      "  warnings.warn(\n",
      "C:\\Users\\claud\\anaconda3\\envs\\ds_em_producao\\lib\\site-packages\\seaborn\\_decorators.py:36: FutureWarning: Pass the following variable as a keyword arg: x. From version 0.12, the only valid positional argument will be `data`, and passing other arguments without an explicit keyword will result in an error or misinterpretation.\n",
      "  warnings.warn(\n",
      "C:\\Users\\claud\\anaconda3\\envs\\ds_em_producao\\lib\\site-packages\\seaborn\\_decorators.py:36: FutureWarning: Pass the following variable as a keyword arg: x. From version 0.12, the only valid positional argument will be `data`, and passing other arguments without an explicit keyword will result in an error or misinterpretation.\n",
      "  warnings.warn(\n"
     ]
    },
    {
     "data": {
      "text/plain": [
       "<AxesSubplot:xlabel='sales', ylabel='Density'>"
      ]
     },
     "execution_count": 35,
     "metadata": {},
     "output_type": "execute_result"
    },
    {
     "data": {
      "image/png": "[encoded data removed]",
      "text/plain": [
       "<Figure size 432x288 with 6 Axes>"
      ]
     },
     "metadata": {
      "needs_background": "light"
     },
     "output_type": "display_data"
    }
   ],
   "source": [
    "#state_hgoliday\n",
    "plt.subplot(3, 2, 1)\n",
    "a = df4[df4['state_holiday']!= 'regular_day']\n",
    "sns.countplot( a['state_holiday'] )\n",
    "    \n",
    "plt.subplot(3,2,2)\n",
    "sns.kdeplot( df4[df4['state_holiday'] == 'public_holiday']['sales'], label='public_holidday', shade=True )\n",
    "sns.kdeplot( df4[df4['state_holiday'] == 'easter_holiday']['sales'], label='easter_holidday', shade=True )\n",
    "sns.kdeplot( df4[df4['state_holiday'] == 'christmas']['sales'], label='christmas', shade=True )\n",
    "\n",
    "#store_type\n",
    "plt.subplot(3, 2, 3)\n",
    "sns.countplot( df4['store_type'] )\n",
    "    \n",
    "plt.subplot(3,2,4)\n",
    "sns.kdeplot( df4[df4['store_type'] == 'a']['sales'], label='a', shade=True )\n",
    "sns.kdeplot( df4[df4['store_type'] == 'b']['sales'], label='b', shade=True )\n",
    "sns.kdeplot( df4[df4['store_type'] == 'c']['sales'], label='c', shade=True )\n",
    "sns.kdeplot( df4[df4['store_type'] == 'd']['sales'], label='d', shade=True )\n",
    "\n",
    "#assortment\n",
    "plt.subplot(3, 2, 5)\n",
    "sns.countplot( df4['assortment'] )\n",
    "    \n",
    "plt.subplot(3,2,6)\n",
    "sns.kdeplot( df4[df4['assortment'] == 'extends']['sales'], label='extends', shade=True )\n",
    "sns.kdeplot( df4[df4['assortment'] == 'basic']['sales'], label='basic', shade=True )\n",
    "sns.kdeplot( df4[df4['assortment'] == 'extra']['sales'], label='extra', shade=True )"
   ]
  },
  {
   "cell_type": "markdown",
   "id": "ff2fddb4",
   "metadata": {},
   "source": [
    "## 5.2 - Analise Bivariada"
   ]
  },
  {
   "cell_type": "markdown",
   "id": "81888d8d",
   "metadata": {},
   "source": [
    "### **H1.** Lojas com maior sortimento deveriam vender mais\n",
    "\n",
    "**FALSA** - lojas com mais sortimento vendem menos"
   ]
  },
  {
   "cell_type": "code",
   "execution_count": 36,
   "id": "d63c7617",
   "metadata": {},
   "outputs": [
    {
     "data": {
      "text/plain": [
       "<AxesSubplot:xlabel='year_week'>"
      ]
     },
     "execution_count": 36,
     "metadata": {},
     "output_type": "execute_result"
    },
    {
     "data": {
      "image/png": "[encoded data removed]",
      "text/plain": [
       "<Figure size 432x288 with 1 Axes>"
      ]
     },
     "metadata": {
      "needs_background": "light"
     },
     "output_type": "display_data"
    },
    {
     "data": {
      "image/png": "[encoded data removed]",
      "text/plain": [
       "<Figure size 432x288 with 1 Axes>"
      ]
     },
     "metadata": {
      "needs_background": "light"
     },
     "output_type": "display_data"
    },
    {
     "data": {
      "image/png": "[encoded data removed]",
      "text/plain": [
       "<Figure size 432x288 with 1 Axes>"
      ]
     },
     "metadata": {
      "needs_background": "light"
     },
     "output_type": "display_data"
    }
   ],
   "source": [
    "aux1 = df4[['assortment','sales']].groupby('assortment').sum().reset_index()\n",
    "sns.barplot(x= 'assortment', y='sales', data=aux1);\n",
    "\n",
    "aux2 = df4[['year_week','assortment','sales']].groupby(['year_week','assortment']).sum().reset_index()\n",
    "aux2.pivot(index='year_week', columns='assortment', values='sales').plot()\n",
    "\n",
    "aux3 = aux2[aux2['assortment'] == 'extra']\n",
    "aux3.pivot(index='year_week', columns='assortment', values='sales').plot()\n",
    "\n"
   ]
  },
  {
   "cell_type": "markdown",
   "id": "0c0177a5",
   "metadata": {},
   "source": [
    "### **H2.** Lojas com competidores mais perto deveriam vender menos.\n",
    "\n",
    "**FALSA** Lojas com competidores mais proximos vendem mais"
   ]
  },
  {
   "cell_type": "code",
   "execution_count": 37,
   "id": "1f5d7011",
   "metadata": {},
   "outputs": [
    {
     "data": {
      "image/png": "[encoded data removed]",
      "text/plain": [
       "<Figure size 432x288 with 4 Axes>"
      ]
     },
     "metadata": {
      "needs_background": "light"
     },
     "output_type": "display_data"
    }
   ],
   "source": [
    "aux1 = df4[['competition_distance','sales']].groupby('competition_distance').sum().reset_index()\n",
    "\n",
    "plt.subplot(1, 3 , 1)\n",
    "sns.scatterplot (x= 'competition_distance', y='sales', data = aux1 ) ;\n",
    "\n",
    "plt.subplot(1, 3 , 2)\n",
    "bins= list( np.arange(0, 20000, 1000))\n",
    "aux1['competition_distance_binned'] = pd.cut(aux1['competition_distance'], bins=bins )\n",
    "aux2 = aux1[['competition_distance_binned','sales']].groupby('competition_distance_binned').sum().reset_index()\n",
    "sns.barplot( x= 'competition_distance_binned',y='sales', data=aux2);\n",
    "plt.xticks ( rotation=90);\n",
    "\n",
    "plt.subplot(1, 3 , 3)\n",
    "x = sns.heatmap(aux1.corr( method='pearson'), annot=True);\n",
    "bottom, top = x.get_ylim()\n",
    "x.set_ylim ( bottom+0.5, top-0.5);"
   ]
  },
  {
   "cell_type": "markdown",
   "id": "5ad745f4",
   "metadata": {},
   "source": [
    "### **3H.** Lojas com competidores à mais tempo deveriam vender mais.\n",
    "**FALSO**  lojas com competidores a mais tempo vendem menos"
   ]
  },
  {
   "cell_type": "code",
   "execution_count": 38,
   "id": "c78236b8",
   "metadata": {},
   "outputs": [
    {
     "data": {
      "image/png": "[encoded data removed]",
      "text/plain": [
       "<Figure size 432x288 with 4 Axes>"
      ]
     },
     "metadata": {
      "needs_background": "light"
     },
     "output_type": "display_data"
    }
   ],
   "source": [
    "plt.subplot(1,3,1)\n",
    "aux1 = df4[['competition_time_month','sales']].groupby( 'competition_time_month').sum().reset_index()\n",
    "aux2 = aux1[ ( aux1['competition_time_month'] < 120) & (aux1['competition_time_month'] != 0)]\n",
    "sns.barplot( x = 'competition_time_month', y='sales', data=aux2);\n",
    "plt.xticks ( rotation= 90);\n",
    "\n",
    "plt.subplot(1,3,2)\n",
    "sns.regplot( x ='competition_time_month', y='sales', data=aux2);\n",
    "\n",
    "plt.subplot(1,3,3)\n",
    "sns.heatmap(aux1.corr( method='pearson'), annot=True);\n",
    "bottom, top = x.get_ylim()\n",
    "x.set_ylim( bottom+0.5, top+0.5);"
   ]
  },
  {
   "cell_type": "markdown",
   "id": "46e73794",
   "metadata": {},
   "source": [
    "### **H8.** Lojas abertas durante o feriado dde natal deveriam vender mais\n",
    "**FALSA** Lojas abertas durante o feriado de natal vendem menos"
   ]
  },
  {
   "cell_type": "code",
   "execution_count": 39,
   "id": "11c245ca",
   "metadata": {},
   "outputs": [
    {
     "data": {
      "image/png": "[encoded data removed]",
      "text/plain": [
       "<Figure size 432x288 with 2 Axes>"
      ]
     },
     "metadata": {
      "needs_background": "light"
     },
     "output_type": "display_data"
    }
   ],
   "source": [
    "aux = df4[df4['state_holiday'] != 'regular_day']\n",
    "\n",
    "plt.subplot(1, 2, 1)\n",
    "aux1 = aux[['state_holiday','sales']].groupby('state_holiday').sum().reset_index()\n",
    "sns.barplot(x = 'state_holiday', y='sales', data=aux1);\n",
    "\n",
    "plt.subplot(1, 2, 2)\n",
    "aux2 = aux[['year','state_holiday','sales']].groupby( ['year','state_holiday']).sum().reset_index()\n",
    "sns.barplot( x='year', y='sales',hue='state_holiday', data=aux2);"
   ]
  },
  {
   "cell_type": "markdown",
   "id": "868ecb53",
   "metadata": {},
   "source": [
    "### **H9.** Lojas deveriam vender mais ao longo dos anos\n",
    "\n",
    "**FALSA** Lojas vencem menos ao longo dos anos"
   ]
  },
  {
   "cell_type": "code",
   "execution_count": 40,
   "id": "6c482a1b",
   "metadata": {},
   "outputs": [
    {
     "data": {
      "image/png": "[encoded data removed]",
      "text/plain": [
       "<Figure size 432x288 with 4 Axes>"
      ]
     },
     "metadata": {
      "needs_background": "light"
     },
     "output_type": "display_data"
    }
   ],
   "source": [
    "aux1 = df4[['year','sales']].groupby('year').sum().reset_index()\n",
    "\n",
    "plt.subplot( 1, 3, 1)\n",
    "sns.barplot( x='year',y='sales', data=aux1);\n",
    "\n",
    "plt.subplot( 1, 3, 2)\n",
    "sns.regplot( x='year',y='sales', data=aux1);\n",
    "\n",
    "plt.subplot( 1, 3, 3)\n",
    "sns.heatmap( aux1.corr(method='pearson'), annot=True);"
   ]
  },
  {
   "cell_type": "markdown",
   "id": "d5d95e7a",
   "metadata": {},
   "source": [
    "### **H10.** Lojas deveriam vender mais no segundo semestre do ano\n",
    "**FALSA** Lojas vendem menos no segundo semestre do ano"
   ]
  },
  {
   "cell_type": "code",
   "execution_count": 41,
   "id": "b8c906b3",
   "metadata": {},
   "outputs": [
    {
     "data": {
      "image/png": "[encoded data removed]",
      "text/plain": [
       "<Figure size 432x288 with 4 Axes>"
      ]
     },
     "metadata": {
      "needs_background": "light"
     },
     "output_type": "display_data"
    }
   ],
   "source": [
    "aux1 = df4[['month','sales']].groupby('month').sum().reset_index()\n",
    "\n",
    "plt.subplot( 1, 3, 1)\n",
    "sns.barplot( x='month',y='sales', data=aux1);\n",
    "\n",
    "plt.subplot( 1, 3, 2)\n",
    "sns.regplot( x='month',y='sales', data=aux1);\n",
    "\n",
    "plt.subplot( 1, 3, 3)\n",
    "sns.heatmap( aux1.corr(method='pearson'), annot=True);"
   ]
  },
  {
   "cell_type": "markdown",
   "id": "12d1bbe0",
   "metadata": {},
   "source": [
    "### **H11.** Lojas deveriam vender mais depois do dia 10 de cada mÊs\n",
    "**VERDADEIRA**  Lojas vendem mais depois do dia 10"
   ]
  },
  {
   "cell_type": "code",
   "execution_count": 42,
   "id": "6dd22629",
   "metadata": {},
   "outputs": [
    {
     "data": {
      "image/png": "[encoded data removed]",
      "text/plain": [
       "<Figure size 432x288 with 5 Axes>"
      ]
     },
     "metadata": {
      "needs_background": "light"
     },
     "output_type": "display_data"
    }
   ],
   "source": [
    "aux1 = df4[['day','sales']].groupby('day').sum().reset_index()\n",
    "\n",
    "plt.subplot( 2, 2, 1)\n",
    "sns.barplot( x='day',y='sales', data=aux1);\n",
    "\n",
    "plt.subplot( 2, 2, 2)\n",
    "sns.regplot( x='day',y='sales', data=aux1);\n",
    "\n",
    "plt.subplot( 2, 2, 3)\n",
    "sns.heatmap( aux1.corr(method='pearson'), annot=True);\n",
    "\n",
    "aux1['before_after'] = aux1['day'].apply( lambda x: 'before_10_days' if x <= 10 else 'after_10_days')\n",
    "aux2 = aux1[['before_after','sales']].groupby('before_after').sum().reset_index()\n",
    "\n",
    "plt.subplot( 2, 2, 4)\n",
    "sns.barplot( x= 'before_after', y='sales', data=aux2);"
   ]
  },
  {
   "cell_type": "markdown",
   "id": "7e6537f1",
   "metadata": {},
   "source": [
    "### **H12.** Lojas deveriam vender menos aos finais de semana##\n",
    "**VERDADEIRA** Lojas vendem menos nos finais de semana"
   ]
  },
  {
   "cell_type": "code",
   "execution_count": 43,
   "id": "70f4db46",
   "metadata": {},
   "outputs": [
    {
     "data": {
      "image/png": "[encoded data removed]",
      "text/plain": [
       "<Figure size 432x288 with 4 Axes>"
      ]
     },
     "metadata": {
      "needs_background": "light"
     },
     "output_type": "display_data"
    }
   ],
   "source": [
    "aux1 = df4[['day_of_week','sales']].groupby('day_of_week').sum().reset_index()\n",
    "\n",
    "plt.subplot( 1, 3, 1)\n",
    "sns.barplot( x='day_of_week',y='sales', data=aux1);\n",
    "\n",
    "plt.subplot( 1, 3, 2)\n",
    "sns.regplot( x='day_of_week',y='sales', data=aux1);\n",
    "\n",
    "plt.subplot( 1, 3, 3)\n",
    "sns.heatmap( aux1.corr(method='pearson'), annot=True);"
   ]
  },
  {
   "cell_type": "markdown",
   "id": "7f1dd174",
   "metadata": {},
   "source": [
    "### **H13.** Lojas deveriam vender menos durantes os feriados escolares\n",
    "**VERDADEIRO** Lojas vendem menos durante os feriados escolares , exceto os meses de julho de agosto"
   ]
  },
  {
   "cell_type": "code",
   "execution_count": 44,
   "id": "40183756",
   "metadata": {},
   "outputs": [
    {
     "data": {
      "image/png": "[encoded data removed]",
      "text/plain": [
       "<Figure size 432x288 with 2 Axes>"
      ]
     },
     "metadata": {
      "needs_background": "light"
     },
     "output_type": "display_data"
    }
   ],
   "source": [
    "aux1 = df4[['school_holiday','sales']].groupby('school_holiday').sum().reset_index()\n",
    "\n",
    "plt.subplot( 2, 1, 1)\n",
    "sns.barplot( x='school_holiday',y='sales', data=aux1);\n",
    "\n",
    "\n",
    "aux2 = df4[['month', 'school_holiday','sales']].groupby(['month','school_holiday']).sum().reset_index()\n",
    "plt.subplot( 2, 1, 2)\n",
    "sns.barplot( x='month',y='sales',hue='school_holiday', data=aux2);\n",
    "\n"
   ]
  },
  {
   "cell_type": "markdown",
   "id": "aff21c4f",
   "metadata": {},
   "source": [
    "## 5.3 - Análise Multivariada"
   ]
  },
  {
   "cell_type": "markdown",
   "id": "0c93c08d",
   "metadata": {},
   "source": []
  },
  {
   "cell_type": "markdown",
   "id": "37aa6946",
   "metadata": {},
   "source": [
    "### 5.3.1. Numerical Attributes"
   ]
  },
  {
   "cell_type": "code",
   "execution_count": 45,
   "id": "14123eda",
   "metadata": {},
   "outputs": [
    {
     "data": {
      "image/png": "[encoded data removed]",
      "text/plain": [
       "<Figure size 432x288 with 2 Axes>"
      ]
     },
     "metadata": {
      "needs_background": "light"
     },
     "output_type": "display_data"
    }
   ],
   "source": [
    "correlation = num_attributes.corr (method = 'pearson')\n",
    "sns.heatmap( correlation, annot=True);"
   ]
  },
  {
   "cell_type": "markdown",
   "id": "8042eb47",
   "metadata": {},
   "source": [
    "### 5.3.2 Categorical Attributes"
   ]
  },
  {
   "cell_type": "code",
   "execution_count": 46,
   "id": "1625f8ba",
   "metadata": {},
   "outputs": [
    {
     "data": {
      "image/png": "[encoded data removed]",
      "text/plain": [
       "<Figure size 432x288 with 2 Axes>"
      ]
     },
     "metadata": {
      "needs_background": "light"
     },
     "output_type": "display_data"
    }
   ],
   "source": [
    "#somente dados categoricos\n",
    "a = df4.select_dtypes( include='object')\n",
    "\n",
    "#calclular v de cramer\n",
    "a1 = cramer_v(a['state_holiday'], a['state_holiday'])\n",
    "a2 = cramer_v(a['state_holiday'], a['store_type'])\n",
    "a3 = cramer_v(a['state_holiday'], a['assortment'])\n",
    "\n",
    "a4 = cramer_v(a['store_type'], a['state_holiday'])\n",
    "a5 = cramer_v(a['store_type'], a['store_type'])\n",
    "a6 = cramer_v(a['store_type'], a['assortment'])\n",
    "\n",
    "a7 = cramer_v(a['assortment'], a['state_holiday'])\n",
    "a8 = cramer_v(a['assortment'], a['store_type'])\n",
    "a9 = cramer_v(a['assortment'], a['assortment'])\n",
    "\n",
    "#dataset final\n",
    "d = pd.DataFrame( {'state_holiday': [a1,a2,a3],\n",
    "              'store_type': [a4,a5,a6],\n",
    "              'assortment': [a7,a8,a9]\n",
    "              })\n",
    "\n",
    "d = d.set_index( d.columns )\n",
    "\n",
    "sns.heatmap( d, annot= True);"
   ]
  },
  {
   "cell_type": "markdown",
   "id": "df4c50eb",
   "metadata": {},
   "source": [
    "# 6.0 - Preparação de Dados"
   ]
  },
  {
   "cell_type": "code",
   "execution_count": 47,
   "id": "ee7160b1",
   "metadata": {},
   "outputs": [],
   "source": [
    "df5 = df4.copy()"
   ]
  },
  {
   "cell_type": "markdown",
   "id": "5ea5c2f2",
   "metadata": {},
   "source": [
    "## 6.1 - Normalização"
   ]
  },
  {
   "cell_type": "markdown",
   "id": "0186dd33",
   "metadata": {},
   "source": [
    "## 6.2 - Rescaling"
   ]
  },
  {
   "cell_type": "code",
   "execution_count": 48,
   "id": "b8d75576",
   "metadata": {},
   "outputs": [],
   "source": [
    "rs = RobustScaler()\n",
    "mms = MinMaxScaler()\n",
    "\n",
    "#competiiton distance\n",
    "df5['competition_distance'] = rs.fit_transform (df5[['competition_distance']].values)\n",
    "\n",
    "#competition time month\n",
    "df5['competition_time_month'] = rs.fit_transform (df5[['competition_time_month']].values)\n",
    "\n",
    "#promo time week\n",
    "df5['promo_time_week'] = mms.fit_transform (df5[['promo_time_week']].values)\n",
    "\n",
    "#year\n",
    "df5['year'] = mms.fit_transform (df5[['year']].values)"
   ]
  },
  {
   "cell_type": "markdown",
   "id": "1def6297",
   "metadata": {},
   "source": [
    "## 6.3 - Transformacao"
   ]
  },
  {
   "cell_type": "markdown",
   "id": "35e78026",
   "metadata": {},
   "source": [
    "### 6.3.1 Encoding"
   ]
  },
  {
   "cell_type": "code",
   "execution_count": 49,
   "id": "812dcb87",
   "metadata": {},
   "outputs": [],
   "source": [
    "#state_hholidat - One Hot Encoding\n",
    "df5 = pd.get_dummies( df5, prefix=['state_holiday'], columns=['state_holiday'])\n",
    "\n",
    "#store_type - Label Encodig\n",
    "le = LabelEncoder()\n",
    "df5['store_type'] = le.fit_transform (df5['store_type'])\n",
    "\n",
    "#assortment - Ordinal Encoding\n",
    "assortment_dict = {'basic': 1,\n",
    "                  'extra': 2 ,\n",
    "                  'extended': 3}\n",
    "df5['assortment'] = df5['assortment'].map( assortment_dict)"
   ]
  },
  {
   "cell_type": "code",
   "execution_count": 50,
   "id": "4e76400b",
   "metadata": {},
   "outputs": [
    {
     "data": {
      "text/html": [
       "<div>\n",
       "<style scoped>\n",
       "    .dataframe tbody tr th:only-of-type {\n",
       "        vertical-align: middle;\n",
       "    }\n",
       "\n",
       "    .dataframe tbody tr th {\n",
       "        vertical-align: top;\n",
       "    }\n",
       "\n",
       "    .dataframe thead th {\n",
       "        text-align: right;\n",
       "    }\n",
       "</style>\n",
       "<table border=\"1\" class=\"dataframe\">\n",
       "  <thead>\n",
       "    <tr style=\"text-align: right;\">\n",
       "      <th></th>\n",
       "      <th>store</th>\n",
       "      <th>day_of_week</th>\n",
       "      <th>date</th>\n",
       "      <th>sales</th>\n",
       "      <th>promo</th>\n",
       "      <th>school_holiday</th>\n",
       "      <th>store_type</th>\n",
       "      <th>assortment</th>\n",
       "      <th>competition_distance</th>\n",
       "      <th>competition_open_since_month</th>\n",
       "      <th>...</th>\n",
       "      <th>week_of_year</th>\n",
       "      <th>year_week</th>\n",
       "      <th>competition_since</th>\n",
       "      <th>competition_time_month</th>\n",
       "      <th>promo_since</th>\n",
       "      <th>promo_time_week</th>\n",
       "      <th>state_holiday_christmas</th>\n",
       "      <th>state_holiday_easter_holiday</th>\n",
       "      <th>state_holiday_public_holiday</th>\n",
       "      <th>state_holiday_regular_day</th>\n",
       "    </tr>\n",
       "  </thead>\n",
       "  <tbody>\n",
       "    <tr>\n",
       "      <th>0</th>\n",
       "      <td>1</td>\n",
       "      <td>5</td>\n",
       "      <td>2015-07-31</td>\n",
       "      <td>5263</td>\n",
       "      <td>1</td>\n",
       "      <td>1</td>\n",
       "      <td>2</td>\n",
       "      <td>1</td>\n",
       "      <td>-0.170968</td>\n",
       "      <td>9</td>\n",
       "      <td>...</td>\n",
       "      <td>31</td>\n",
       "      <td>2015-30</td>\n",
       "      <td>2008-09-01</td>\n",
       "      <td>0.918919</td>\n",
       "      <td>2015-02-09</td>\n",
       "      <td>0.341686</td>\n",
       "      <td>0</td>\n",
       "      <td>0</td>\n",
       "      <td>0</td>\n",
       "      <td>1</td>\n",
       "    </tr>\n",
       "    <tr>\n",
       "      <th>1</th>\n",
       "      <td>2</td>\n",
       "      <td>5</td>\n",
       "      <td>2015-07-31</td>\n",
       "      <td>6064</td>\n",
       "      <td>1</td>\n",
       "      <td>1</td>\n",
       "      <td>0</td>\n",
       "      <td>1</td>\n",
       "      <td>-0.283871</td>\n",
       "      <td>11</td>\n",
       "      <td>...</td>\n",
       "      <td>31</td>\n",
       "      <td>2015-30</td>\n",
       "      <td>2007-11-01</td>\n",
       "      <td>1.054054</td>\n",
       "      <td>2010-03-22</td>\n",
       "      <td>0.922551</td>\n",
       "      <td>0</td>\n",
       "      <td>0</td>\n",
       "      <td>0</td>\n",
       "      <td>1</td>\n",
       "    </tr>\n",
       "    <tr>\n",
       "      <th>2</th>\n",
       "      <td>3</td>\n",
       "      <td>5</td>\n",
       "      <td>2015-07-31</td>\n",
       "      <td>8314</td>\n",
       "      <td>1</td>\n",
       "      <td>1</td>\n",
       "      <td>0</td>\n",
       "      <td>1</td>\n",
       "      <td>1.903226</td>\n",
       "      <td>12</td>\n",
       "      <td>...</td>\n",
       "      <td>31</td>\n",
       "      <td>2015-30</td>\n",
       "      <td>2006-12-01</td>\n",
       "      <td>1.202703</td>\n",
       "      <td>2011-03-28</td>\n",
       "      <td>0.801822</td>\n",
       "      <td>0</td>\n",
       "      <td>0</td>\n",
       "      <td>0</td>\n",
       "      <td>1</td>\n",
       "    </tr>\n",
       "    <tr>\n",
       "      <th>3</th>\n",
       "      <td>4</td>\n",
       "      <td>5</td>\n",
       "      <td>2015-07-31</td>\n",
       "      <td>13995</td>\n",
       "      <td>1</td>\n",
       "      <td>1</td>\n",
       "      <td>2</td>\n",
       "      <td>3</td>\n",
       "      <td>-0.275806</td>\n",
       "      <td>9</td>\n",
       "      <td>...</td>\n",
       "      <td>31</td>\n",
       "      <td>2015-30</td>\n",
       "      <td>2009-09-01</td>\n",
       "      <td>0.743243</td>\n",
       "      <td>2015-02-09</td>\n",
       "      <td>0.341686</td>\n",
       "      <td>0</td>\n",
       "      <td>0</td>\n",
       "      <td>0</td>\n",
       "      <td>1</td>\n",
       "    </tr>\n",
       "    <tr>\n",
       "      <th>4</th>\n",
       "      <td>5</td>\n",
       "      <td>5</td>\n",
       "      <td>2015-07-31</td>\n",
       "      <td>4822</td>\n",
       "      <td>1</td>\n",
       "      <td>1</td>\n",
       "      <td>0</td>\n",
       "      <td>1</td>\n",
       "      <td>4.448387</td>\n",
       "      <td>4</td>\n",
       "      <td>...</td>\n",
       "      <td>31</td>\n",
       "      <td>2015-30</td>\n",
       "      <td>2015-04-01</td>\n",
       "      <td>-0.162162</td>\n",
       "      <td>2015-02-09</td>\n",
       "      <td>0.341686</td>\n",
       "      <td>0</td>\n",
       "      <td>0</td>\n",
       "      <td>0</td>\n",
       "      <td>1</td>\n",
       "    </tr>\n",
       "  </tbody>\n",
       "</table>\n",
       "<p>5 rows × 28 columns</p>\n",
       "</div>"
      ],
      "text/plain": [
       "   store  day_of_week       date  sales  promo  school_holiday  store_type  \\\n",
       "0      1            5 2015-07-31   5263      1               1           2   \n",
       "1      2            5 2015-07-31   6064      1               1           0   \n",
       "2      3            5 2015-07-31   8314      1               1           0   \n",
       "3      4            5 2015-07-31  13995      1               1           2   \n",
       "4      5            5 2015-07-31   4822      1               1           0   \n",
       "\n",
       "   assortment  competition_distance  competition_open_since_month  ...  \\\n",
       "0           1             -0.170968                             9  ...   \n",
       "1           1             -0.283871                            11  ...   \n",
       "2           1              1.903226                            12  ...   \n",
       "3           3             -0.275806                             9  ...   \n",
       "4           1              4.448387                             4  ...   \n",
       "\n",
       "   week_of_year  year_week  competition_since  competition_time_month  \\\n",
       "0            31    2015-30         2008-09-01                0.918919   \n",
       "1            31    2015-30         2007-11-01                1.054054   \n",
       "2            31    2015-30         2006-12-01                1.202703   \n",
       "3            31    2015-30         2009-09-01                0.743243   \n",
       "4            31    2015-30         2015-04-01               -0.162162   \n",
       "\n",
       "   promo_since  promo_time_week  state_holiday_christmas  \\\n",
       "0   2015-02-09         0.341686                        0   \n",
       "1   2010-03-22         0.922551                        0   \n",
       "2   2011-03-28         0.801822                        0   \n",
       "3   2015-02-09         0.341686                        0   \n",
       "4   2015-02-09         0.341686                        0   \n",
       "\n",
       "   state_holiday_easter_holiday  state_holiday_public_holiday  \\\n",
       "0                             0                             0   \n",
       "1                             0                             0   \n",
       "2                             0                             0   \n",
       "3                             0                             0   \n",
       "4                             0                             0   \n",
       "\n",
       "  state_holiday_regular_day  \n",
       "0                         1  \n",
       "1                         1  \n",
       "2                         1  \n",
       "3                         1  \n",
       "4                         1  \n",
       "\n",
       "[5 rows x 28 columns]"
      ]
     },
     "execution_count": 50,
     "metadata": {},
     "output_type": "execute_result"
    }
   ],
   "source": [
    "df5.head()"
   ]
  },
  {
   "cell_type": "markdown",
   "id": "b482cc64",
   "metadata": {},
   "source": [
    "### 6.3.2 - Transformação da variavel resposta"
   ]
  },
  {
   "cell_type": "code",
   "execution_count": 51,
   "id": "b50dba60",
   "metadata": {},
   "outputs": [],
   "source": [
    "df5['sales'] = np.log1p( df5['sales'])\n"
   ]
  },
  {
   "cell_type": "code",
   "execution_count": 52,
   "id": "8c944acc",
   "metadata": {},
   "outputs": [
    {
     "name": "stderr",
     "output_type": "stream",
     "text": [
      "C:\\Users\\claud\\anaconda3\\envs\\ds_em_producao\\lib\\site-packages\\seaborn\\distributions.py:2619: FutureWarning: `distplot` is a deprecated function and will be removed in a future version. Please adapt your code to use either `displot` (a figure-level function with similar flexibility) or `histplot` (an axes-level function for histograms).\n",
      "  warnings.warn(msg, FutureWarning)\n"
     ]
    },
    {
     "data": {
      "text/plain": [
       "<AxesSubplot:xlabel='sales', ylabel='Density'>"
      ]
     },
     "execution_count": 52,
     "metadata": {},
     "output_type": "execute_result"
    },
    {
     "data": {
      "image/png": "[encoded data removed]",
      "text/plain": [
       "<Figure size 432x288 with 1 Axes>"
      ]
     },
     "metadata": {
      "needs_background": "light"
     },
     "output_type": "display_data"
    }
   ],
   "source": [
    "sns.distplot (df5['sales'])"
   ]
  },
  {
   "cell_type": "markdown",
   "id": "885f9c83",
   "metadata": {},
   "source": [
    "### 6.3. - Transformação de natureza"
   ]
  },
  {
   "cell_type": "code",
   "execution_count": 53,
   "id": "409aac39",
   "metadata": {},
   "outputs": [],
   "source": [
    "#day of week\n",
    "df5['day_of_week_sin'] = df5['day_of_week'].apply (lambda x: np.sin (x * (2. * np.pi/7)))\n",
    "df5['day_of_week_cos'] = df5['day_of_week'].apply (lambda x: np.cos (x * (2. * np.pi/7)))\n",
    "\n",
    "#month\n",
    "df5['month_sin'] = df5['month'].apply (lambda x: np.sin (x * (2. * np.pi/12)))\n",
    "df5['month_cos'] = df5['month'].apply (lambda x: np.cos (x * (2. * np.pi/12)))\n",
    "\n",
    "#day\n",
    "df5['day_sin'] = df5['day'].apply (lambda x: np.sin (x * (2. * np.pi/30)))\n",
    "df5['day_cos'] = df5['day'].apply (lambda x: np.cos (x * (2. * np.pi/30)))\n",
    "\n",
    "#week of year\n",
    "df5['week_of_year_sin'] = df5['week_of_year'].apply (lambda x: np.sin (x * (2. * np.pi/52)))\n",
    "df5['week_of_year_cos'] = df5['week_of_year'].apply (lambda x: np.cos (x * (2. * np.pi/52)))"
   ]
  },
  {
   "cell_type": "code",
   "execution_count": 54,
   "id": "995b2c12",
   "metadata": {},
   "outputs": [
    {
     "data": {
      "text/html": [
       "<div>\n",
       "<style scoped>\n",
       "    .dataframe tbody tr th:only-of-type {\n",
       "        vertical-align: middle;\n",
       "    }\n",
       "\n",
       "    .dataframe tbody tr th {\n",
       "        vertical-align: top;\n",
       "    }\n",
       "\n",
       "    .dataframe thead th {\n",
       "        text-align: right;\n",
       "    }\n",
       "</style>\n",
       "<table border=\"1\" class=\"dataframe\">\n",
       "  <thead>\n",
       "    <tr style=\"text-align: right;\">\n",
       "      <th></th>\n",
       "      <th>store</th>\n",
       "      <th>day_of_week</th>\n",
       "      <th>date</th>\n",
       "      <th>sales</th>\n",
       "      <th>promo</th>\n",
       "      <th>school_holiday</th>\n",
       "      <th>store_type</th>\n",
       "      <th>assortment</th>\n",
       "      <th>competition_distance</th>\n",
       "      <th>competition_open_since_month</th>\n",
       "      <th>...</th>\n",
       "      <th>state_holiday_public_holiday</th>\n",
       "      <th>state_holiday_regular_day</th>\n",
       "      <th>day_of_week_sin</th>\n",
       "      <th>day_of_week_cos</th>\n",
       "      <th>month_sin</th>\n",
       "      <th>month_cos</th>\n",
       "      <th>day_sin</th>\n",
       "      <th>day_cos</th>\n",
       "      <th>week_of_year_sin</th>\n",
       "      <th>week_of_year_cos</th>\n",
       "    </tr>\n",
       "  </thead>\n",
       "  <tbody>\n",
       "    <tr>\n",
       "      <th>0</th>\n",
       "      <td>1</td>\n",
       "      <td>5</td>\n",
       "      <td>2015-07-31</td>\n",
       "      <td>8.568646</td>\n",
       "      <td>1</td>\n",
       "      <td>1</td>\n",
       "      <td>2</td>\n",
       "      <td>1</td>\n",
       "      <td>-0.170968</td>\n",
       "      <td>9</td>\n",
       "      <td>...</td>\n",
       "      <td>0</td>\n",
       "      <td>1</td>\n",
       "      <td>-0.974928</td>\n",
       "      <td>-0.222521</td>\n",
       "      <td>-0.5</td>\n",
       "      <td>-0.866025</td>\n",
       "      <td>0.207912</td>\n",
       "      <td>0.978148</td>\n",
       "      <td>-0.568065</td>\n",
       "      <td>-0.822984</td>\n",
       "    </tr>\n",
       "    <tr>\n",
       "      <th>1</th>\n",
       "      <td>2</td>\n",
       "      <td>5</td>\n",
       "      <td>2015-07-31</td>\n",
       "      <td>8.710290</td>\n",
       "      <td>1</td>\n",
       "      <td>1</td>\n",
       "      <td>0</td>\n",
       "      <td>1</td>\n",
       "      <td>-0.283871</td>\n",
       "      <td>11</td>\n",
       "      <td>...</td>\n",
       "      <td>0</td>\n",
       "      <td>1</td>\n",
       "      <td>-0.974928</td>\n",
       "      <td>-0.222521</td>\n",
       "      <td>-0.5</td>\n",
       "      <td>-0.866025</td>\n",
       "      <td>0.207912</td>\n",
       "      <td>0.978148</td>\n",
       "      <td>-0.568065</td>\n",
       "      <td>-0.822984</td>\n",
       "    </tr>\n",
       "    <tr>\n",
       "      <th>2</th>\n",
       "      <td>3</td>\n",
       "      <td>5</td>\n",
       "      <td>2015-07-31</td>\n",
       "      <td>9.025816</td>\n",
       "      <td>1</td>\n",
       "      <td>1</td>\n",
       "      <td>0</td>\n",
       "      <td>1</td>\n",
       "      <td>1.903226</td>\n",
       "      <td>12</td>\n",
       "      <td>...</td>\n",
       "      <td>0</td>\n",
       "      <td>1</td>\n",
       "      <td>-0.974928</td>\n",
       "      <td>-0.222521</td>\n",
       "      <td>-0.5</td>\n",
       "      <td>-0.866025</td>\n",
       "      <td>0.207912</td>\n",
       "      <td>0.978148</td>\n",
       "      <td>-0.568065</td>\n",
       "      <td>-0.822984</td>\n",
       "    </tr>\n",
       "    <tr>\n",
       "      <th>3</th>\n",
       "      <td>4</td>\n",
       "      <td>5</td>\n",
       "      <td>2015-07-31</td>\n",
       "      <td>9.546527</td>\n",
       "      <td>1</td>\n",
       "      <td>1</td>\n",
       "      <td>2</td>\n",
       "      <td>3</td>\n",
       "      <td>-0.275806</td>\n",
       "      <td>9</td>\n",
       "      <td>...</td>\n",
       "      <td>0</td>\n",
       "      <td>1</td>\n",
       "      <td>-0.974928</td>\n",
       "      <td>-0.222521</td>\n",
       "      <td>-0.5</td>\n",
       "      <td>-0.866025</td>\n",
       "      <td>0.207912</td>\n",
       "      <td>0.978148</td>\n",
       "      <td>-0.568065</td>\n",
       "      <td>-0.822984</td>\n",
       "    </tr>\n",
       "    <tr>\n",
       "      <th>4</th>\n",
       "      <td>5</td>\n",
       "      <td>5</td>\n",
       "      <td>2015-07-31</td>\n",
       "      <td>8.481151</td>\n",
       "      <td>1</td>\n",
       "      <td>1</td>\n",
       "      <td>0</td>\n",
       "      <td>1</td>\n",
       "      <td>4.448387</td>\n",
       "      <td>4</td>\n",
       "      <td>...</td>\n",
       "      <td>0</td>\n",
       "      <td>1</td>\n",
       "      <td>-0.974928</td>\n",
       "      <td>-0.222521</td>\n",
       "      <td>-0.5</td>\n",
       "      <td>-0.866025</td>\n",
       "      <td>0.207912</td>\n",
       "      <td>0.978148</td>\n",
       "      <td>-0.568065</td>\n",
       "      <td>-0.822984</td>\n",
       "    </tr>\n",
       "    <tr>\n",
       "      <th>5</th>\n",
       "      <td>6</td>\n",
       "      <td>5</td>\n",
       "      <td>2015-07-31</td>\n",
       "      <td>8.639765</td>\n",
       "      <td>1</td>\n",
       "      <td>1</td>\n",
       "      <td>0</td>\n",
       "      <td>1</td>\n",
       "      <td>-0.325806</td>\n",
       "      <td>12</td>\n",
       "      <td>...</td>\n",
       "      <td>0</td>\n",
       "      <td>1</td>\n",
       "      <td>-0.974928</td>\n",
       "      <td>-0.222521</td>\n",
       "      <td>-0.5</td>\n",
       "      <td>-0.866025</td>\n",
       "      <td>0.207912</td>\n",
       "      <td>0.978148</td>\n",
       "      <td>-0.568065</td>\n",
       "      <td>-0.822984</td>\n",
       "    </tr>\n",
       "    <tr>\n",
       "      <th>6</th>\n",
       "      <td>7</td>\n",
       "      <td>5</td>\n",
       "      <td>2015-07-31</td>\n",
       "      <td>9.638545</td>\n",
       "      <td>1</td>\n",
       "      <td>1</td>\n",
       "      <td>0</td>\n",
       "      <td>3</td>\n",
       "      <td>3.495161</td>\n",
       "      <td>4</td>\n",
       "      <td>...</td>\n",
       "      <td>0</td>\n",
       "      <td>1</td>\n",
       "      <td>-0.974928</td>\n",
       "      <td>-0.222521</td>\n",
       "      <td>-0.5</td>\n",
       "      <td>-0.866025</td>\n",
       "      <td>0.207912</td>\n",
       "      <td>0.978148</td>\n",
       "      <td>-0.568065</td>\n",
       "      <td>-0.822984</td>\n",
       "    </tr>\n",
       "    <tr>\n",
       "      <th>7</th>\n",
       "      <td>8</td>\n",
       "      <td>5</td>\n",
       "      <td>2015-07-31</td>\n",
       "      <td>9.046998</td>\n",
       "      <td>1</td>\n",
       "      <td>1</td>\n",
       "      <td>0</td>\n",
       "      <td>1</td>\n",
       "      <td>0.837097</td>\n",
       "      <td>10</td>\n",
       "      <td>...</td>\n",
       "      <td>0</td>\n",
       "      <td>1</td>\n",
       "      <td>-0.974928</td>\n",
       "      <td>-0.222521</td>\n",
       "      <td>-0.5</td>\n",
       "      <td>-0.866025</td>\n",
       "      <td>0.207912</td>\n",
       "      <td>0.978148</td>\n",
       "      <td>-0.568065</td>\n",
       "      <td>-0.822984</td>\n",
       "    </tr>\n",
       "    <tr>\n",
       "      <th>8</th>\n",
       "      <td>9</td>\n",
       "      <td>5</td>\n",
       "      <td>2015-07-31</td>\n",
       "      <td>9.055556</td>\n",
       "      <td>1</td>\n",
       "      <td>1</td>\n",
       "      <td>0</td>\n",
       "      <td>3</td>\n",
       "      <td>-0.048387</td>\n",
       "      <td>8</td>\n",
       "      <td>...</td>\n",
       "      <td>0</td>\n",
       "      <td>1</td>\n",
       "      <td>-0.974928</td>\n",
       "      <td>-0.222521</td>\n",
       "      <td>-0.5</td>\n",
       "      <td>-0.866025</td>\n",
       "      <td>0.207912</td>\n",
       "      <td>0.978148</td>\n",
       "      <td>-0.568065</td>\n",
       "      <td>-0.822984</td>\n",
       "    </tr>\n",
       "    <tr>\n",
       "      <th>9</th>\n",
       "      <td>10</td>\n",
       "      <td>5</td>\n",
       "      <td>2015-07-31</td>\n",
       "      <td>8.879890</td>\n",
       "      <td>1</td>\n",
       "      <td>1</td>\n",
       "      <td>0</td>\n",
       "      <td>1</td>\n",
       "      <td>0.133871</td>\n",
       "      <td>9</td>\n",
       "      <td>...</td>\n",
       "      <td>0</td>\n",
       "      <td>1</td>\n",
       "      <td>-0.974928</td>\n",
       "      <td>-0.222521</td>\n",
       "      <td>-0.5</td>\n",
       "      <td>-0.866025</td>\n",
       "      <td>0.207912</td>\n",
       "      <td>0.978148</td>\n",
       "      <td>-0.568065</td>\n",
       "      <td>-0.822984</td>\n",
       "    </tr>\n",
       "  </tbody>\n",
       "</table>\n",
       "<p>10 rows × 36 columns</p>\n",
       "</div>"
      ],
      "text/plain": [
       "   store  day_of_week       date     sales  promo  school_holiday  store_type  \\\n",
       "0      1            5 2015-07-31  8.568646      1               1           2   \n",
       "1      2            5 2015-07-31  8.710290      1               1           0   \n",
       "2      3            5 2015-07-31  9.025816      1               1           0   \n",
       "3      4            5 2015-07-31  9.546527      1               1           2   \n",
       "4      5            5 2015-07-31  8.481151      1               1           0   \n",
       "5      6            5 2015-07-31  8.639765      1               1           0   \n",
       "6      7            5 2015-07-31  9.638545      1               1           0   \n",
       "7      8            5 2015-07-31  9.046998      1               1           0   \n",
       "8      9            5 2015-07-31  9.055556      1               1           0   \n",
       "9     10            5 2015-07-31  8.879890      1               1           0   \n",
       "\n",
       "   assortment  competition_distance  competition_open_since_month  ...  \\\n",
       "0           1             -0.170968                             9  ...   \n",
       "1           1             -0.283871                            11  ...   \n",
       "2           1              1.903226                            12  ...   \n",
       "3           3             -0.275806                             9  ...   \n",
       "4           1              4.448387                             4  ...   \n",
       "5           1             -0.325806                            12  ...   \n",
       "6           3              3.495161                             4  ...   \n",
       "7           1              0.837097                            10  ...   \n",
       "8           3             -0.048387                             8  ...   \n",
       "9           1              0.133871                             9  ...   \n",
       "\n",
       "   state_holiday_public_holiday  state_holiday_regular_day  day_of_week_sin  \\\n",
       "0                             0                          1        -0.974928   \n",
       "1                             0                          1        -0.974928   \n",
       "2                             0                          1        -0.974928   \n",
       "3                             0                          1        -0.974928   \n",
       "4                             0                          1        -0.974928   \n",
       "5                             0                          1        -0.974928   \n",
       "6                             0                          1        -0.974928   \n",
       "7                             0                          1        -0.974928   \n",
       "8                             0                          1        -0.974928   \n",
       "9                             0                          1        -0.974928   \n",
       "\n",
       "   day_of_week_cos  month_sin  month_cos   day_sin   day_cos  \\\n",
       "0        -0.222521       -0.5  -0.866025  0.207912  0.978148   \n",
       "1        -0.222521       -0.5  -0.866025  0.207912  0.978148   \n",
       "2        -0.222521       -0.5  -0.866025  0.207912  0.978148   \n",
       "3        -0.222521       -0.5  -0.866025  0.207912  0.978148   \n",
       "4        -0.222521       -0.5  -0.866025  0.207912  0.978148   \n",
       "5        -0.222521       -0.5  -0.866025  0.207912  0.978148   \n",
       "6        -0.222521       -0.5  -0.866025  0.207912  0.978148   \n",
       "7        -0.222521       -0.5  -0.866025  0.207912  0.978148   \n",
       "8        -0.222521       -0.5  -0.866025  0.207912  0.978148   \n",
       "9        -0.222521       -0.5  -0.866025  0.207912  0.978148   \n",
       "\n",
       "   week_of_year_sin week_of_year_cos  \n",
       "0         -0.568065        -0.822984  \n",
       "1         -0.568065        -0.822984  \n",
       "2         -0.568065        -0.822984  \n",
       "3         -0.568065        -0.822984  \n",
       "4         -0.568065        -0.822984  \n",
       "5         -0.568065        -0.822984  \n",
       "6         -0.568065        -0.822984  \n",
       "7         -0.568065        -0.822984  \n",
       "8         -0.568065        -0.822984  \n",
       "9         -0.568065        -0.822984  \n",
       "\n",
       "[10 rows x 36 columns]"
      ]
     },
     "execution_count": 54,
     "metadata": {},
     "output_type": "execute_result"
    }
   ],
   "source": [
    "df5.head(10)"
   ]
  },
  {
   "cell_type": "markdown",
   "id": "7faff206",
   "metadata": {},
   "source": [
    "# 7.0 - Selecão de variaveis(colunas)"
   ]
  },
  {
   "cell_type": "code",
   "execution_count": 55,
   "id": "e3ffa133",
   "metadata": {},
   "outputs": [],
   "source": [
    "df6 = df5.copy()\n"
   ]
  },
  {
   "cell_type": "markdown",
   "id": "81bc969c",
   "metadata": {},
   "source": [
    "## 7.1 - Dividir dataframe em treino e teste"
   ]
  },
  {
   "cell_type": "code",
   "execution_count": 56,
   "id": "e3d9bf20",
   "metadata": {},
   "outputs": [],
   "source": [
    "cols_drop = ['week_of_year','day','month','day_of_week','promo_since','competition_since','year_week']\n",
    "df6 = df6.drop( cols_drop, axis=1)"
   ]
  },
  {
   "cell_type": "code",
   "execution_count": 57,
   "id": "1c84c936",
   "metadata": {},
   "outputs": [
    {
     "data": {
      "text/plain": [
       "Timestamp('2015-06-19 00:00:00')"
      ]
     },
     "execution_count": 57,
     "metadata": {},
     "output_type": "execute_result"
    }
   ],
   "source": [
    "df6[['store','date']].groupby('store').max().reset_index()['date'][0] - datetime.timedelta(days=6*7)"
   ]
  },
  {
   "cell_type": "code",
   "execution_count": 58,
   "id": "dbb023e4",
   "metadata": {},
   "outputs": [
    {
     "name": "stdout",
     "output_type": "stream",
     "text": [
      "Training Min Date: 2013-01-01 00:00:00\n",
      "Training Min Date: 2015-06-18 00:00:00\n",
      "\n",
      "Test Min Date: 2015-06-19 00:00:00\n",
      "Test Min Date: 2015-07-31 00:00:00\n"
     ]
    }
   ],
   "source": [
    "#dataset treino\n",
    "X_train = df6[df6['date'] < '2015-06-19']\n",
    "y_train = X_train['sales']\n",
    "\n",
    "#dataset test\n",
    "X_test = df6[df6['date'] >= '2015-06-19']\n",
    "y_test = X_test['sales']\n",
    "\n",
    "print( 'Training Min Date: {}'.format(X_train['date'].min() ))\n",
    "print( 'Training Min Date: {}'.format(X_train['date'].max() ))\n",
    "\n",
    "print( '\\nTest Min Date: {}'.format(X_test['date'].min() ))\n",
    "print( 'Test Min Date: {}'.format(X_test['date'].max() ))"
   ]
  },
  {
   "cell_type": "code",
   "execution_count": 59,
   "id": "4fa8de04",
   "metadata": {},
   "outputs": [
    {
     "data": {
      "text/html": [
       "<div>\n",
       "<style scoped>\n",
       "    .dataframe tbody tr th:only-of-type {\n",
       "        vertical-align: middle;\n",
       "    }\n",
       "\n",
       "    .dataframe tbody tr th {\n",
       "        vertical-align: top;\n",
       "    }\n",
       "\n",
       "    .dataframe thead th {\n",
       "        text-align: right;\n",
       "    }\n",
       "</style>\n",
       "<table border=\"1\" class=\"dataframe\">\n",
       "  <thead>\n",
       "    <tr style=\"text-align: right;\">\n",
       "      <th></th>\n",
       "      <th>store</th>\n",
       "      <th>date</th>\n",
       "      <th>sales</th>\n",
       "      <th>promo</th>\n",
       "      <th>school_holiday</th>\n",
       "      <th>store_type</th>\n",
       "      <th>assortment</th>\n",
       "      <th>competition_distance</th>\n",
       "      <th>competition_open_since_month</th>\n",
       "      <th>competition_open_since_year</th>\n",
       "      <th>...</th>\n",
       "      <th>state_holiday_public_holiday</th>\n",
       "      <th>state_holiday_regular_day</th>\n",
       "      <th>day_of_week_sin</th>\n",
       "      <th>day_of_week_cos</th>\n",
       "      <th>month_sin</th>\n",
       "      <th>month_cos</th>\n",
       "      <th>day_sin</th>\n",
       "      <th>day_cos</th>\n",
       "      <th>week_of_year_sin</th>\n",
       "      <th>week_of_year_cos</th>\n",
       "    </tr>\n",
       "  </thead>\n",
       "  <tbody>\n",
       "    <tr>\n",
       "      <th>47945</th>\n",
       "      <td>1</td>\n",
       "      <td>2015-06-18</td>\n",
       "      <td>8.443762</td>\n",
       "      <td>1</td>\n",
       "      <td>0</td>\n",
       "      <td>2</td>\n",
       "      <td>1</td>\n",
       "      <td>-0.170968</td>\n",
       "      <td>9</td>\n",
       "      <td>2008</td>\n",
       "      <td>...</td>\n",
       "      <td>0</td>\n",
       "      <td>1</td>\n",
       "      <td>-0.433884</td>\n",
       "      <td>-0.900969</td>\n",
       "      <td>1.224647e-16</td>\n",
       "      <td>-1.000000</td>\n",
       "      <td>-0.587785</td>\n",
       "      <td>-0.809017</td>\n",
       "      <td>0.120537</td>\n",
       "      <td>-0.992709</td>\n",
       "    </tr>\n",
       "    <tr>\n",
       "      <th>47946</th>\n",
       "      <td>2</td>\n",
       "      <td>2015-06-18</td>\n",
       "      <td>8.547722</td>\n",
       "      <td>1</td>\n",
       "      <td>0</td>\n",
       "      <td>0</td>\n",
       "      <td>1</td>\n",
       "      <td>-0.283871</td>\n",
       "      <td>11</td>\n",
       "      <td>2007</td>\n",
       "      <td>...</td>\n",
       "      <td>0</td>\n",
       "      <td>1</td>\n",
       "      <td>-0.433884</td>\n",
       "      <td>-0.900969</td>\n",
       "      <td>1.224647e-16</td>\n",
       "      <td>-1.000000</td>\n",
       "      <td>-0.587785</td>\n",
       "      <td>-0.809017</td>\n",
       "      <td>0.120537</td>\n",
       "      <td>-0.992709</td>\n",
       "    </tr>\n",
       "    <tr>\n",
       "      <th>47947</th>\n",
       "      <td>3</td>\n",
       "      <td>2015-06-18</td>\n",
       "      <td>8.927712</td>\n",
       "      <td>1</td>\n",
       "      <td>0</td>\n",
       "      <td>0</td>\n",
       "      <td>1</td>\n",
       "      <td>1.903226</td>\n",
       "      <td>12</td>\n",
       "      <td>2006</td>\n",
       "      <td>...</td>\n",
       "      <td>0</td>\n",
       "      <td>1</td>\n",
       "      <td>-0.433884</td>\n",
       "      <td>-0.900969</td>\n",
       "      <td>1.224647e-16</td>\n",
       "      <td>-1.000000</td>\n",
       "      <td>-0.587785</td>\n",
       "      <td>-0.809017</td>\n",
       "      <td>0.120537</td>\n",
       "      <td>-0.992709</td>\n",
       "    </tr>\n",
       "    <tr>\n",
       "      <th>47948</th>\n",
       "      <td>4</td>\n",
       "      <td>2015-06-18</td>\n",
       "      <td>9.091669</td>\n",
       "      <td>1</td>\n",
       "      <td>0</td>\n",
       "      <td>2</td>\n",
       "      <td>3</td>\n",
       "      <td>-0.275806</td>\n",
       "      <td>9</td>\n",
       "      <td>2009</td>\n",
       "      <td>...</td>\n",
       "      <td>0</td>\n",
       "      <td>1</td>\n",
       "      <td>-0.433884</td>\n",
       "      <td>-0.900969</td>\n",
       "      <td>1.224647e-16</td>\n",
       "      <td>-1.000000</td>\n",
       "      <td>-0.587785</td>\n",
       "      <td>-0.809017</td>\n",
       "      <td>0.120537</td>\n",
       "      <td>-0.992709</td>\n",
       "    </tr>\n",
       "    <tr>\n",
       "      <th>47949</th>\n",
       "      <td>5</td>\n",
       "      <td>2015-06-18</td>\n",
       "      <td>8.502080</td>\n",
       "      <td>1</td>\n",
       "      <td>0</td>\n",
       "      <td>0</td>\n",
       "      <td>1</td>\n",
       "      <td>4.448387</td>\n",
       "      <td>4</td>\n",
       "      <td>2015</td>\n",
       "      <td>...</td>\n",
       "      <td>0</td>\n",
       "      <td>1</td>\n",
       "      <td>-0.433884</td>\n",
       "      <td>-0.900969</td>\n",
       "      <td>1.224647e-16</td>\n",
       "      <td>-1.000000</td>\n",
       "      <td>-0.587785</td>\n",
       "      <td>-0.809017</td>\n",
       "      <td>0.120537</td>\n",
       "      <td>-0.992709</td>\n",
       "    </tr>\n",
       "    <tr>\n",
       "      <th>...</th>\n",
       "      <td>...</td>\n",
       "      <td>...</td>\n",
       "      <td>...</td>\n",
       "      <td>...</td>\n",
       "      <td>...</td>\n",
       "      <td>...</td>\n",
       "      <td>...</td>\n",
       "      <td>...</td>\n",
       "      <td>...</td>\n",
       "      <td>...</td>\n",
       "      <td>...</td>\n",
       "      <td>...</td>\n",
       "      <td>...</td>\n",
       "      <td>...</td>\n",
       "      <td>...</td>\n",
       "      <td>...</td>\n",
       "      <td>...</td>\n",
       "      <td>...</td>\n",
       "      <td>...</td>\n",
       "      <td>...</td>\n",
       "      <td>...</td>\n",
       "    </tr>\n",
       "    <tr>\n",
       "      <th>1016776</th>\n",
       "      <td>682</td>\n",
       "      <td>2013-01-01</td>\n",
       "      <td>8.124447</td>\n",
       "      <td>0</td>\n",
       "      <td>1</td>\n",
       "      <td>1</td>\n",
       "      <td>1</td>\n",
       "      <td>-0.351613</td>\n",
       "      <td>9</td>\n",
       "      <td>2006</td>\n",
       "      <td>...</td>\n",
       "      <td>1</td>\n",
       "      <td>0</td>\n",
       "      <td>0.974928</td>\n",
       "      <td>-0.222521</td>\n",
       "      <td>5.000000e-01</td>\n",
       "      <td>0.866025</td>\n",
       "      <td>0.207912</td>\n",
       "      <td>0.978148</td>\n",
       "      <td>0.120537</td>\n",
       "      <td>0.992709</td>\n",
       "    </tr>\n",
       "    <tr>\n",
       "      <th>1016827</th>\n",
       "      <td>733</td>\n",
       "      <td>2013-01-01</td>\n",
       "      <td>9.284148</td>\n",
       "      <td>0</td>\n",
       "      <td>1</td>\n",
       "      <td>1</td>\n",
       "      <td>2</td>\n",
       "      <td>-0.237097</td>\n",
       "      <td>10</td>\n",
       "      <td>1999</td>\n",
       "      <td>...</td>\n",
       "      <td>1</td>\n",
       "      <td>0</td>\n",
       "      <td>0.974928</td>\n",
       "      <td>-0.222521</td>\n",
       "      <td>5.000000e-01</td>\n",
       "      <td>0.866025</td>\n",
       "      <td>0.207912</td>\n",
       "      <td>0.978148</td>\n",
       "      <td>0.120537</td>\n",
       "      <td>0.992709</td>\n",
       "    </tr>\n",
       "    <tr>\n",
       "      <th>1016863</th>\n",
       "      <td>769</td>\n",
       "      <td>2013-01-01</td>\n",
       "      <td>8.524367</td>\n",
       "      <td>0</td>\n",
       "      <td>1</td>\n",
       "      <td>1</td>\n",
       "      <td>2</td>\n",
       "      <td>-0.240323</td>\n",
       "      <td>1</td>\n",
       "      <td>2013</td>\n",
       "      <td>...</td>\n",
       "      <td>1</td>\n",
       "      <td>0</td>\n",
       "      <td>0.974928</td>\n",
       "      <td>-0.222521</td>\n",
       "      <td>5.000000e-01</td>\n",
       "      <td>0.866025</td>\n",
       "      <td>0.207912</td>\n",
       "      <td>0.978148</td>\n",
       "      <td>0.120537</td>\n",
       "      <td>0.992709</td>\n",
       "    </tr>\n",
       "    <tr>\n",
       "      <th>1017042</th>\n",
       "      <td>948</td>\n",
       "      <td>2013-01-01</td>\n",
       "      <td>8.410053</td>\n",
       "      <td>0</td>\n",
       "      <td>1</td>\n",
       "      <td>1</td>\n",
       "      <td>2</td>\n",
       "      <td>-0.145161</td>\n",
       "      <td>1</td>\n",
       "      <td>2013</td>\n",
       "      <td>...</td>\n",
       "      <td>1</td>\n",
       "      <td>0</td>\n",
       "      <td>0.974928</td>\n",
       "      <td>-0.222521</td>\n",
       "      <td>5.000000e-01</td>\n",
       "      <td>0.866025</td>\n",
       "      <td>0.207912</td>\n",
       "      <td>0.978148</td>\n",
       "      <td>0.120537</td>\n",
       "      <td>0.992709</td>\n",
       "    </tr>\n",
       "    <tr>\n",
       "      <th>1017190</th>\n",
       "      <td>1097</td>\n",
       "      <td>2013-01-01</td>\n",
       "      <td>8.693161</td>\n",
       "      <td>0</td>\n",
       "      <td>1</td>\n",
       "      <td>1</td>\n",
       "      <td>2</td>\n",
       "      <td>-0.259677</td>\n",
       "      <td>3</td>\n",
       "      <td>2002</td>\n",
       "      <td>...</td>\n",
       "      <td>1</td>\n",
       "      <td>0</td>\n",
       "      <td>0.974928</td>\n",
       "      <td>-0.222521</td>\n",
       "      <td>5.000000e-01</td>\n",
       "      <td>0.866025</td>\n",
       "      <td>0.207912</td>\n",
       "      <td>0.978148</td>\n",
       "      <td>0.120537</td>\n",
       "      <td>0.992709</td>\n",
       "    </tr>\n",
       "  </tbody>\n",
       "</table>\n",
       "<p>802942 rows × 29 columns</p>\n",
       "</div>"
      ],
      "text/plain": [
       "         store       date     sales  promo  school_holiday  store_type  \\\n",
       "47945        1 2015-06-18  8.443762      1               0           2   \n",
       "47946        2 2015-06-18  8.547722      1               0           0   \n",
       "47947        3 2015-06-18  8.927712      1               0           0   \n",
       "47948        4 2015-06-18  9.091669      1               0           2   \n",
       "47949        5 2015-06-18  8.502080      1               0           0   \n",
       "...        ...        ...       ...    ...             ...         ...   \n",
       "1016776    682 2013-01-01  8.124447      0               1           1   \n",
       "1016827    733 2013-01-01  9.284148      0               1           1   \n",
       "1016863    769 2013-01-01  8.524367      0               1           1   \n",
       "1017042    948 2013-01-01  8.410053      0               1           1   \n",
       "1017190   1097 2013-01-01  8.693161      0               1           1   \n",
       "\n",
       "         assortment  competition_distance  competition_open_since_month  \\\n",
       "47945             1             -0.170968                             9   \n",
       "47946             1             -0.283871                            11   \n",
       "47947             1              1.903226                            12   \n",
       "47948             3             -0.275806                             9   \n",
       "47949             1              4.448387                             4   \n",
       "...             ...                   ...                           ...   \n",
       "1016776           1             -0.351613                             9   \n",
       "1016827           2             -0.237097                            10   \n",
       "1016863           2             -0.240323                             1   \n",
       "1017042           2             -0.145161                             1   \n",
       "1017190           2             -0.259677                             3   \n",
       "\n",
       "         competition_open_since_year  ...  state_holiday_public_holiday  \\\n",
       "47945                           2008  ...                             0   \n",
       "47946                           2007  ...                             0   \n",
       "47947                           2006  ...                             0   \n",
       "47948                           2009  ...                             0   \n",
       "47949                           2015  ...                             0   \n",
       "...                              ...  ...                           ...   \n",
       "1016776                         2006  ...                             1   \n",
       "1016827                         1999  ...                             1   \n",
       "1016863                         2013  ...                             1   \n",
       "1017042                         2013  ...                             1   \n",
       "1017190                         2002  ...                             1   \n",
       "\n",
       "         state_holiday_regular_day  day_of_week_sin  day_of_week_cos  \\\n",
       "47945                            1        -0.433884        -0.900969   \n",
       "47946                            1        -0.433884        -0.900969   \n",
       "47947                            1        -0.433884        -0.900969   \n",
       "47948                            1        -0.433884        -0.900969   \n",
       "47949                            1        -0.433884        -0.900969   \n",
       "...                            ...              ...              ...   \n",
       "1016776                          0         0.974928        -0.222521   \n",
       "1016827                          0         0.974928        -0.222521   \n",
       "1016863                          0         0.974928        -0.222521   \n",
       "1017042                          0         0.974928        -0.222521   \n",
       "1017190                          0         0.974928        -0.222521   \n",
       "\n",
       "            month_sin  month_cos   day_sin   day_cos  week_of_year_sin  \\\n",
       "47945    1.224647e-16  -1.000000 -0.587785 -0.809017          0.120537   \n",
       "47946    1.224647e-16  -1.000000 -0.587785 -0.809017          0.120537   \n",
       "47947    1.224647e-16  -1.000000 -0.587785 -0.809017          0.120537   \n",
       "47948    1.224647e-16  -1.000000 -0.587785 -0.809017          0.120537   \n",
       "47949    1.224647e-16  -1.000000 -0.587785 -0.809017          0.120537   \n",
       "...               ...        ...       ...       ...               ...   \n",
       "1016776  5.000000e-01   0.866025  0.207912  0.978148          0.120537   \n",
       "1016827  5.000000e-01   0.866025  0.207912  0.978148          0.120537   \n",
       "1016863  5.000000e-01   0.866025  0.207912  0.978148          0.120537   \n",
       "1017042  5.000000e-01   0.866025  0.207912  0.978148          0.120537   \n",
       "1017190  5.000000e-01   0.866025  0.207912  0.978148          0.120537   \n",
       "\n",
       "         week_of_year_cos  \n",
       "47945           -0.992709  \n",
       "47946           -0.992709  \n",
       "47947           -0.992709  \n",
       "47948           -0.992709  \n",
       "47949           -0.992709  \n",
       "...                   ...  \n",
       "1016776          0.992709  \n",
       "1016827          0.992709  \n",
       "1016863          0.992709  \n",
       "1017042          0.992709  \n",
       "1017190          0.992709  \n",
       "\n",
       "[802942 rows x 29 columns]"
      ]
     },
     "execution_count": 59,
     "metadata": {},
     "output_type": "execute_result"
    }
   ],
   "source": [
    "X_train"
   ]
  },
  {
   "cell_type": "markdown",
   "id": "6ee124d3",
   "metadata": {},
   "source": [
    "## 7.2 - Implementando o Boruta"
   ]
  },
  {
   "cell_type": "code",
   "execution_count": 60,
   "id": "a4fb6768",
   "metadata": {},
   "outputs": [],
   "source": [
    "#treino e test para o boruta\n",
    "X_train_n = X_train.drop(['date','sales'],axis = 1).values\n",
    "y_train_n = y_train.values.ravel()\n",
    "\n",
    "#definicao random forest \n",
    "rf = RandomForestRegressor( n_jobs=-1)\n",
    "\n",
    "#definicao Boruta\n",
    "\n",
    "#boruta = BorutaPy( rf, n_estimators='auto', verbose=2, random_state=42 ).fit(X_train_n, y_train_n)"
   ]
  },
  {
   "cell_type": "markdown",
   "id": "dd24c935",
   "metadata": {},
   "source": [
    "### 7.2.1 - melhores colunas selecionadas pelo boruta"
   ]
  },
  {
   "cell_type": "code",
   "execution_count": 61,
   "id": "11e7c82b",
   "metadata": {},
   "outputs": [],
   "source": [
    "#cols_selected = boruta.support_.tolist()\n",
    "\n",
    "# melhores colunas\n",
    "#X_train_fs = X_train.drop(['date','sales'], axis = 1)\n",
    "#cols_selected_boruta = X_train_fs.iloc[:, cols_selected].columns.to_list()\n",
    "\n",
    "#colunas não selecioandzs pelo borura\n",
    "#cols_not_selected_boruta = list (np.setdiff1d( X_train_fs.columns, cols_selected_boruta ) )"
   ]
  },
  {
   "cell_type": "markdown",
   "id": "cb4d33c5",
   "metadata": {},
   "source": [
    "## 7.3 - Seleção manual de colunas"
   ]
  },
  {
   "cell_type": "code",
   "execution_count": 73,
   "id": "d104970b",
   "metadata": {},
   "outputs": [],
   "source": [
    "cols_selected_boruta = ['store',\n",
    " 'promo',\n",
    " 'store_type',\n",
    " 'assortment',\n",
    " 'competition_distance',\n",
    " 'competition_open_since_month',\n",
    " 'competition_open_since_year',\n",
    " 'promo2',\n",
    " 'promo2_since_week',\n",
    " 'promo2_since_year',\n",
    " 'competition_time_month',\n",
    " 'promo_time_week',\n",
    " 'day_of_week_sin',\n",
    " 'day_of_week_cos',\n",
    "'month_sin',\n",
    " 'month_cos',\n",
    " 'day_sin',\n",
    " 'day_cos',\n",
    "'week_of_year_sin',\n",
    " 'week_of_year_cos']\n",
    "\n",
    "\n",
    "# adicionar colunas\n",
    "feat_to_add = ['date','sales']\n",
    "\n",
    "#coluna final\n",
    "cols_selected_boruta_full = cols_selected_boruta.copy()\n",
    "cols_selected_boruta_full.extend( feat_to_add)\n"
   ]
  },
  {
   "cell_type": "markdown",
   "id": "9b8bf4e8",
   "metadata": {},
   "source": [
    "# 8.0 - Modelos de Machine Learning"
   ]
  },
  {
   "cell_type": "code",
   "execution_count": 63,
   "id": "e691757e",
   "metadata": {},
   "outputs": [],
   "source": [
    "x_train = X_train[ cols_selected_boruta]\n",
    "x_test = X_test[ cols_selected_boruta]"
   ]
  },
  {
   "cell_type": "markdown",
   "id": "d398bcd4",
   "metadata": {},
   "source": [
    "## 8.1 - Modelo de média"
   ]
  },
  {
   "cell_type": "code",
   "execution_count": 64,
   "id": "30495de5",
   "metadata": {},
   "outputs": [
    {
     "data": {
      "text/html": [
       "<div>\n",
       "<style scoped>\n",
       "    .dataframe tbody tr th:only-of-type {\n",
       "        vertical-align: middle;\n",
       "    }\n",
       "\n",
       "    .dataframe tbody tr th {\n",
       "        vertical-align: top;\n",
       "    }\n",
       "\n",
       "    .dataframe thead th {\n",
       "        text-align: right;\n",
       "    }\n",
       "</style>\n",
       "<table border=\"1\" class=\"dataframe\">\n",
       "  <thead>\n",
       "    <tr style=\"text-align: right;\">\n",
       "      <th></th>\n",
       "      <th>Model Name</th>\n",
       "      <th>MAE</th>\n",
       "      <th>MAPE</th>\n",
       "      <th>RMSE</th>\n",
       "    </tr>\n",
       "  </thead>\n",
       "  <tbody>\n",
       "    <tr>\n",
       "      <th>0</th>\n",
       "      <td>Avarage Model</td>\n",
       "      <td>1354.800353</td>\n",
       "      <td>0.455051</td>\n",
       "      <td>1835.135542</td>\n",
       "    </tr>\n",
       "  </tbody>\n",
       "</table>\n",
       "</div>"
      ],
      "text/plain": [
       "      Model Name          MAE      MAPE         RMSE\n",
       "0  Avarage Model  1354.800353  0.455051  1835.135542"
      ]
     },
     "execution_count": 64,
     "metadata": {},
     "output_type": "execute_result"
    }
   ],
   "source": [
    "aux1 = x_test.copy()\n",
    "aux1['sales'] = y_test.copy()\n",
    "\n",
    "#predicao\n",
    "aux2 = aux1[['store','sales']].groupby('store').mean().reset_index().rename( columns={'sales':'predictions'})\n",
    "aux1 = pd.merge( aux1, aux2, how ='left', on='store')\n",
    "yhat_baseline = aux1['predictions']\n",
    "\n",
    "#perfomance\n",
    "baseline_result = m1_error('Avarage Model', np.expm1 (y_test), np.expm1 (yhat_baseline) )\n",
    "baseline_result"
   ]
  },
  {
   "cell_type": "markdown",
   "id": "cbb51b69",
   "metadata": {},
   "source": [
    "## 8.2 - Modelo de regressão linear"
   ]
  },
  {
   "cell_type": "code",
   "execution_count": 65,
   "id": "ea218e43",
   "metadata": {},
   "outputs": [
    {
     "data": {
      "text/html": [
       "<div>\n",
       "<style scoped>\n",
       "    .dataframe tbody tr th:only-of-type {\n",
       "        vertical-align: middle;\n",
       "    }\n",
       "\n",
       "    .dataframe tbody tr th {\n",
       "        vertical-align: top;\n",
       "    }\n",
       "\n",
       "    .dataframe thead th {\n",
       "        text-align: right;\n",
       "    }\n",
       "</style>\n",
       "<table border=\"1\" class=\"dataframe\">\n",
       "  <thead>\n",
       "    <tr style=\"text-align: right;\">\n",
       "      <th></th>\n",
       "      <th>Model Name</th>\n",
       "      <th>MAE</th>\n",
       "      <th>MAPE</th>\n",
       "      <th>RMSE</th>\n",
       "    </tr>\n",
       "  </thead>\n",
       "  <tbody>\n",
       "    <tr>\n",
       "      <th>0</th>\n",
       "      <td>Linear Regression</td>\n",
       "      <td>1868.999225</td>\n",
       "      <td>0.294903</td>\n",
       "      <td>2665.742106</td>\n",
       "    </tr>\n",
       "  </tbody>\n",
       "</table>\n",
       "</div>"
      ],
      "text/plain": [
       "          Model Name          MAE      MAPE         RMSE\n",
       "0  Linear Regression  1868.999225  0.294903  2665.742106"
      ]
     },
     "execution_count": 65,
     "metadata": {},
     "output_type": "execute_result"
    }
   ],
   "source": [
    "#modelo\n",
    "lr = LinearRegression().fit(x_train, y_train)\n",
    "\n",
    "#predicao\n",
    "yhat_lr = lr.predict( x_test)\n",
    "\n",
    "#perfomance\n",
    "lr_result = m1_error( 'Linear Regression', np.expm1( y_test), np.expm1(yhat_lr))\n",
    "lr_result"
   ]
  },
  {
   "cell_type": "markdown",
   "id": "c7fb0428",
   "metadata": {},
   "source": [
    "### 8.2.1  - Cross Validation Lineqar Regression Model"
   ]
  },
  {
   "cell_type": "code",
   "execution_count": 134,
   "id": "e0d87c76",
   "metadata": {},
   "outputs": [
    {
     "data": {
      "text/html": [
       "<div>\n",
       "<style scoped>\n",
       "    .dataframe tbody tr th:only-of-type {\n",
       "        vertical-align: middle;\n",
       "    }\n",
       "\n",
       "    .dataframe tbody tr th {\n",
       "        vertical-align: top;\n",
       "    }\n",
       "\n",
       "    .dataframe thead th {\n",
       "        text-align: right;\n",
       "    }\n",
       "</style>\n",
       "<table border=\"1\" class=\"dataframe\">\n",
       "  <thead>\n",
       "    <tr style=\"text-align: right;\">\n",
       "      <th></th>\n",
       "      <th>Model Name</th>\n",
       "      <th>MAE CV</th>\n",
       "      <th>MAPE CV</th>\n",
       "      <th>RMSE CV</th>\n",
       "    </tr>\n",
       "  </thead>\n",
       "  <tbody>\n",
       "    <tr>\n",
       "      <th>0</th>\n",
       "      <td>Linear Regression</td>\n",
       "      <td>2094.24 +/- 301.77</td>\n",
       "      <td>0.3 +/- 0.02</td>\n",
       "      <td>2963.5 +/- 486.08</td>\n",
       "    </tr>\n",
       "  </tbody>\n",
       "</table>\n",
       "</div>"
      ],
      "text/plain": [
       "          Model Name              MAE CV       MAPE CV            RMSE CV\n",
       "0  Linear Regression  2094.24 +/- 301.77  0.3 +/- 0.02  2963.5 +/- 486.08"
      ]
     },
     "execution_count": 134,
     "metadata": {},
     "output_type": "execute_result"
    }
   ],
   "source": [
    "lr_result_cv =  cross_validation(x_training, 5, 'Linear Regression', lr, verbose = False)\n",
    "lr_result_cv "
   ]
  },
  {
   "cell_type": "markdown",
   "id": "49813f7e",
   "metadata": {},
   "source": [
    "## 8.3 Modelo de regressão linear Regularizado - Lasso"
   ]
  },
  {
   "cell_type": "code",
   "execution_count": 66,
   "id": "14b2a668",
   "metadata": {},
   "outputs": [
    {
     "data": {
      "text/html": [
       "<div>\n",
       "<style scoped>\n",
       "    .dataframe tbody tr th:only-of-type {\n",
       "        vertical-align: middle;\n",
       "    }\n",
       "\n",
       "    .dataframe tbody tr th {\n",
       "        vertical-align: top;\n",
       "    }\n",
       "\n",
       "    .dataframe thead th {\n",
       "        text-align: right;\n",
       "    }\n",
       "</style>\n",
       "<table border=\"1\" class=\"dataframe\">\n",
       "  <thead>\n",
       "    <tr style=\"text-align: right;\">\n",
       "      <th></th>\n",
       "      <th>Model Name</th>\n",
       "      <th>MAE</th>\n",
       "      <th>MAPE</th>\n",
       "      <th>RMSE</th>\n",
       "    </tr>\n",
       "  </thead>\n",
       "  <tbody>\n",
       "    <tr>\n",
       "      <th>0</th>\n",
       "      <td>Linear Regression - Lasso</td>\n",
       "      <td>1894.725095</td>\n",
       "      <td>0.288322</td>\n",
       "      <td>2756.092763</td>\n",
       "    </tr>\n",
       "  </tbody>\n",
       "</table>\n",
       "</div>"
      ],
      "text/plain": [
       "                  Model Name          MAE      MAPE         RMSE\n",
       "0  Linear Regression - Lasso  1894.725095  0.288322  2756.092763"
      ]
     },
     "execution_count": 66,
     "metadata": {},
     "output_type": "execute_result"
    }
   ],
   "source": [
    "#modelo\n",
    "lrr = Lasso(alpha = 0.01).fit(x_train, y_train)\n",
    "\n",
    "#predicao\n",
    "yhat_lrr = lrr.predict( x_test)\n",
    "\n",
    "#perfomance\n",
    "lrr_result = m1_error( 'Linear Regression - Lasso', np.expm1( y_test), np.expm1(yhat_lrr))\n",
    "lrr_result"
   ]
  },
  {
   "cell_type": "markdown",
   "id": "c45b0f3e",
   "metadata": {},
   "source": [
    "### 8.3.1 - Cross Validation Lasso"
   ]
  },
  {
   "cell_type": "code",
   "execution_count": 135,
   "id": "7acb3e38",
   "metadata": {},
   "outputs": [
    {
     "data": {
      "text/html": [
       "<div>\n",
       "<style scoped>\n",
       "    .dataframe tbody tr th:only-of-type {\n",
       "        vertical-align: middle;\n",
       "    }\n",
       "\n",
       "    .dataframe tbody tr th {\n",
       "        vertical-align: top;\n",
       "    }\n",
       "\n",
       "    .dataframe thead th {\n",
       "        text-align: right;\n",
       "    }\n",
       "</style>\n",
       "<table border=\"1\" class=\"dataframe\">\n",
       "  <thead>\n",
       "    <tr style=\"text-align: right;\">\n",
       "      <th></th>\n",
       "      <th>Model Name</th>\n",
       "      <th>MAE CV</th>\n",
       "      <th>MAPE CV</th>\n",
       "      <th>RMSE CV</th>\n",
       "    </tr>\n",
       "  </thead>\n",
       "  <tbody>\n",
       "    <tr>\n",
       "      <th>0</th>\n",
       "      <td>Lasso</td>\n",
       "      <td>2122.84 +/- 364.56</td>\n",
       "      <td>0.29 +/- 0.01</td>\n",
       "      <td>3059.41 +/- 543.84</td>\n",
       "    </tr>\n",
       "  </tbody>\n",
       "</table>\n",
       "</div>"
      ],
      "text/plain": [
       "  Model Name              MAE CV        MAPE CV             RMSE CV\n",
       "0      Lasso  2122.84 +/- 364.56  0.29 +/- 0.01  3059.41 +/- 543.84"
      ]
     },
     "execution_count": 135,
     "metadata": {},
     "output_type": "execute_result"
    }
   ],
   "source": [
    "lrr_result_cv =  cross_validation(x_training, 5, 'Lasso', lrr, verbose = False)\n",
    "lrr_result_cv "
   ]
  },
  {
   "cell_type": "markdown",
   "id": "f504f5e7",
   "metadata": {},
   "source": [
    "## 8.4 - Regressão Random Forest"
   ]
  },
  {
   "cell_type": "code",
   "execution_count": 67,
   "id": "1c47b307",
   "metadata": {},
   "outputs": [
    {
     "data": {
      "text/html": [
       "<div>\n",
       "<style scoped>\n",
       "    .dataframe tbody tr th:only-of-type {\n",
       "        vertical-align: middle;\n",
       "    }\n",
       "\n",
       "    .dataframe tbody tr th {\n",
       "        vertical-align: top;\n",
       "    }\n",
       "\n",
       "    .dataframe thead th {\n",
       "        text-align: right;\n",
       "    }\n",
       "</style>\n",
       "<table border=\"1\" class=\"dataframe\">\n",
       "  <thead>\n",
       "    <tr style=\"text-align: right;\">\n",
       "      <th></th>\n",
       "      <th>Model Name</th>\n",
       "      <th>MAE</th>\n",
       "      <th>MAPE</th>\n",
       "      <th>RMSE</th>\n",
       "    </tr>\n",
       "  </thead>\n",
       "  <tbody>\n",
       "    <tr>\n",
       "      <th>0</th>\n",
       "      <td>Random Forest Regressor</td>\n",
       "      <td>665.347641</td>\n",
       "      <td>0.097968</td>\n",
       "      <td>993.146934</td>\n",
       "    </tr>\n",
       "  </tbody>\n",
       "</table>\n",
       "</div>"
      ],
      "text/plain": [
       "                Model Name         MAE      MAPE        RMSE\n",
       "0  Random Forest Regressor  665.347641  0.097968  993.146934"
      ]
     },
     "execution_count": 67,
     "metadata": {},
     "output_type": "execute_result"
    }
   ],
   "source": [
    "#modelo\n",
    "rf =RandomForestRegressor(n_estimators=100, n_jobs=-1, random_state = 42).fit(x_train, y_train)\n",
    "\n",
    "#predicao\n",
    "yhat_rf = rf.predict( x_test)\n",
    "\n",
    "#perfomance\n",
    "rf_result = m1_error( 'Random Forest Regressor', np.expm1( y_test), np.expm1(yhat_rf))\n",
    "rf_result"
   ]
  },
  {
   "cell_type": "markdown",
   "id": "f89da545",
   "metadata": {},
   "source": [
    "### 8.4.1 - Cross Validation - Random Forest "
   ]
  },
  {
   "cell_type": "code",
   "execution_count": 136,
   "id": "fccd985d",
   "metadata": {},
   "outputs": [
    {
     "data": {
      "text/html": [
       "<div>\n",
       "<style scoped>\n",
       "    .dataframe tbody tr th:only-of-type {\n",
       "        vertical-align: middle;\n",
       "    }\n",
       "\n",
       "    .dataframe tbody tr th {\n",
       "        vertical-align: top;\n",
       "    }\n",
       "\n",
       "    .dataframe thead th {\n",
       "        text-align: right;\n",
       "    }\n",
       "</style>\n",
       "<table border=\"1\" class=\"dataframe\">\n",
       "  <thead>\n",
       "    <tr style=\"text-align: right;\">\n",
       "      <th></th>\n",
       "      <th>Model Name</th>\n",
       "      <th>MAE CV</th>\n",
       "      <th>MAPE CV</th>\n",
       "      <th>RMSE CV</th>\n",
       "    </tr>\n",
       "  </thead>\n",
       "  <tbody>\n",
       "    <tr>\n",
       "      <th>0</th>\n",
       "      <td>Random Forest</td>\n",
       "      <td>841.13 +/- 235.66</td>\n",
       "      <td>0.12 +/- 0.03</td>\n",
       "      <td>1258.47 +/- 348.44</td>\n",
       "    </tr>\n",
       "  </tbody>\n",
       "</table>\n",
       "</div>"
      ],
      "text/plain": [
       "      Model Name             MAE CV        MAPE CV             RMSE CV\n",
       "0  Random Forest  841.13 +/- 235.66  0.12 +/- 0.03  1258.47 +/- 348.44"
      ]
     },
     "execution_count": 136,
     "metadata": {},
     "output_type": "execute_result"
    }
   ],
   "source": [
    "rf_result_cv =  cross_validation(x_training, 5, 'Random Forest', rf, verbose = False)\n",
    "rf_result_cv "
   ]
  },
  {
   "cell_type": "markdown",
   "id": "bf10b693",
   "metadata": {},
   "source": [
    "## 8.5 -  XGBOost Regressor"
   ]
  },
  {
   "cell_type": "code",
   "execution_count": 145,
   "id": "e2df0374",
   "metadata": {},
   "outputs": [
    {
     "name": "stderr",
     "output_type": "stream",
     "text": [
      "C:\\Users\\claud\\anaconda3\\envs\\ds_em_producao\\lib\\site-packages\\xgboost\\data.py:250: FutureWarning: pandas.Int64Index is deprecated and will be removed from pandas in a future version. Use pandas.Index with the appropriate dtype instead.\n",
      "  elif isinstance(data.columns, (pd.Int64Index, pd.RangeIndex)):\n"
     ]
    },
    {
     "data": {
      "text/html": [
       "<div>\n",
       "<style scoped>\n",
       "    .dataframe tbody tr th:only-of-type {\n",
       "        vertical-align: middle;\n",
       "    }\n",
       "\n",
       "    .dataframe tbody tr th {\n",
       "        vertical-align: top;\n",
       "    }\n",
       "\n",
       "    .dataframe thead th {\n",
       "        text-align: right;\n",
       "    }\n",
       "</style>\n",
       "<table border=\"1\" class=\"dataframe\">\n",
       "  <thead>\n",
       "    <tr style=\"text-align: right;\">\n",
       "      <th></th>\n",
       "      <th>Model Name</th>\n",
       "      <th>MAE</th>\n",
       "      <th>MAPE</th>\n",
       "      <th>RMSE</th>\n",
       "    </tr>\n",
       "  </thead>\n",
       "  <tbody>\n",
       "    <tr>\n",
       "      <th>0</th>\n",
       "      <td>XGBoost Regressor</td>\n",
       "      <td>6683.488784</td>\n",
       "      <td>0.949471</td>\n",
       "      <td>7330.595131</td>\n",
       "    </tr>\n",
       "  </tbody>\n",
       "</table>\n",
       "</div>"
      ],
      "text/plain": [
       "          Model Name          MAE      MAPE         RMSE\n",
       "0  XGBoost Regressor  6683.488784  0.949471  7330.595131"
      ]
     },
     "execution_count": 145,
     "metadata": {},
     "output_type": "execute_result"
    }
   ],
   "source": [
    "#modelo\n",
    "model_xgb = xgb.XGBRegressor (objective='reg:squarederror',\n",
    "                              n_estimators =100,\n",
    "                              eta=0.01,\n",
    "                              max_depth=10,\n",
    "                              subsample=0.7,\n",
    "                              colsample_bytree=0.9).fit(x_train, y_train)\n",
    "#predicao\n",
    "yhat_xgb = model_xgb.predict( x_test)\n",
    "\n",
    "#perfomance\n",
    "xgb_result = m1_error( 'XGBoost Regressor', np.expm1( y_test), np.expm1(yhat_xgb))\n",
    "xgb_result"
   ]
  },
  {
   "cell_type": "markdown",
   "id": "5a52135b",
   "metadata": {},
   "source": [
    "### 8.5.1 - Cross Validation - XGBoost"
   ]
  },
  {
   "cell_type": "code",
   "execution_count": 142,
   "id": "61155b83",
   "metadata": {},
   "outputs": [
    {
     "name": "stderr",
     "output_type": "stream",
     "text": [
      "C:\\Users\\claud\\anaconda3\\envs\\ds_em_producao\\lib\\site-packages\\xgboost\\data.py:250: FutureWarning: pandas.Int64Index is deprecated and will be removed from pandas in a future version. Use pandas.Index with the appropriate dtype instead.\n",
      "  elif isinstance(data.columns, (pd.Int64Index, pd.RangeIndex)):\n"
     ]
    },
    {
     "name": "stdout",
     "output_type": "stream",
     "text": [
      "          Model Name          MAE      MAPE         RMSE\n",
      "0  Linear Regression  1980.557204  0.284178  2838.276678\n"
     ]
    },
    {
     "name": "stderr",
     "output_type": "stream",
     "text": [
      "C:\\Users\\claud\\anaconda3\\envs\\ds_em_producao\\lib\\site-packages\\xgboost\\data.py:250: FutureWarning: pandas.Int64Index is deprecated and will be removed from pandas in a future version. Use pandas.Index with the appropriate dtype instead.\n",
      "  elif isinstance(data.columns, (pd.Int64Index, pd.RangeIndex)):\n"
     ]
    },
    {
     "name": "stdout",
     "output_type": "stream",
     "text": [
      "          Model Name          MAE      MAPE         RMSE\n",
      "0  Linear Regression  1980.557204  0.284178  2838.276678\n"
     ]
    },
    {
     "name": "stderr",
     "output_type": "stream",
     "text": [
      "C:\\Users\\claud\\anaconda3\\envs\\ds_em_producao\\lib\\site-packages\\xgboost\\data.py:250: FutureWarning: pandas.Int64Index is deprecated and will be removed from pandas in a future version. Use pandas.Index with the appropriate dtype instead.\n",
      "  elif isinstance(data.columns, (pd.Int64Index, pd.RangeIndex)):\n"
     ]
    },
    {
     "name": "stdout",
     "output_type": "stream",
     "text": [
      "          Model Name          MAE      MAPE         RMSE\n",
      "0  Linear Regression  1980.557204  0.284178  2838.276678\n"
     ]
    },
    {
     "name": "stderr",
     "output_type": "stream",
     "text": [
      "C:\\Users\\claud\\anaconda3\\envs\\ds_em_producao\\lib\\site-packages\\xgboost\\data.py:250: FutureWarning: pandas.Int64Index is deprecated and will be removed from pandas in a future version. Use pandas.Index with the appropriate dtype instead.\n",
      "  elif isinstance(data.columns, (pd.Int64Index, pd.RangeIndex)):\n"
     ]
    },
    {
     "name": "stdout",
     "output_type": "stream",
     "text": [
      "          Model Name          MAE      MAPE         RMSE\n",
      "0  Linear Regression  1980.557204  0.284178  2838.276678\n"
     ]
    },
    {
     "name": "stderr",
     "output_type": "stream",
     "text": [
      "C:\\Users\\claud\\anaconda3\\envs\\ds_em_producao\\lib\\site-packages\\xgboost\\data.py:250: FutureWarning: pandas.Int64Index is deprecated and will be removed from pandas in a future version. Use pandas.Index with the appropriate dtype instead.\n",
      "  elif isinstance(data.columns, (pd.Int64Index, pd.RangeIndex)):\n"
     ]
    },
    {
     "name": "stdout",
     "output_type": "stream",
     "text": [
      "          Model Name          MAE      MAPE         RMSE\n",
      "0  Linear Regression  1980.557204  0.284178  2838.276678\n"
     ]
    },
    {
     "data": {
      "text/html": [
       "<div>\n",
       "<style scoped>\n",
       "    .dataframe tbody tr th:only-of-type {\n",
       "        vertical-align: middle;\n",
       "    }\n",
       "\n",
       "    .dataframe tbody tr th {\n",
       "        vertical-align: top;\n",
       "    }\n",
       "\n",
       "    .dataframe thead th {\n",
       "        text-align: right;\n",
       "    }\n",
       "</style>\n",
       "<table border=\"1\" class=\"dataframe\">\n",
       "  <thead>\n",
       "    <tr style=\"text-align: right;\">\n",
       "      <th></th>\n",
       "      <th>Model Name</th>\n",
       "      <th>MAE CV</th>\n",
       "      <th>MAPE CV</th>\n",
       "      <th>RMSE CV</th>\n",
       "    </tr>\n",
       "  </thead>\n",
       "  <tbody>\n",
       "    <tr>\n",
       "      <th>0</th>\n",
       "      <td>XGboost Regressor</td>\n",
       "      <td>7049.11 +/- 588.66</td>\n",
       "      <td>0.95 +/- 0.0</td>\n",
       "      <td>7714.95 +/- 689.71</td>\n",
       "    </tr>\n",
       "  </tbody>\n",
       "</table>\n",
       "</div>"
      ],
      "text/plain": [
       "          Model Name              MAE CV       MAPE CV             RMSE CV\n",
       "0  XGboost Regressor  7049.11 +/- 588.66  0.95 +/- 0.0  7714.95 +/- 689.71"
      ]
     },
     "execution_count": 142,
     "metadata": {},
     "output_type": "execute_result"
    }
   ],
   "source": [
    "xgb_result_cv =  cross_validation(x_training, 5, 'XGboost Regressor', model_xgb, verbose = True)\n",
    "xgb_result_cv "
   ]
  },
  {
   "cell_type": "markdown",
   "id": "3f106114",
   "metadata": {},
   "source": [
    "## 8.6 - Comparativo de perfomance entre os modelos"
   ]
  },
  {
   "cell_type": "markdown",
   "id": "eaffcf1d",
   "metadata": {},
   "source": [
    "### 8.6.1 - Perfomance simples"
   ]
  },
  {
   "cell_type": "code",
   "execution_count": 143,
   "id": "7097e203",
   "metadata": {},
   "outputs": [
    {
     "data": {
      "text/html": [
       "<div>\n",
       "<style scoped>\n",
       "    .dataframe tbody tr th:only-of-type {\n",
       "        vertical-align: middle;\n",
       "    }\n",
       "\n",
       "    .dataframe tbody tr th {\n",
       "        vertical-align: top;\n",
       "    }\n",
       "\n",
       "    .dataframe thead th {\n",
       "        text-align: right;\n",
       "    }\n",
       "</style>\n",
       "<table border=\"1\" class=\"dataframe\">\n",
       "  <thead>\n",
       "    <tr style=\"text-align: right;\">\n",
       "      <th></th>\n",
       "      <th>Model Name</th>\n",
       "      <th>MAE</th>\n",
       "      <th>MAPE</th>\n",
       "      <th>RMSE</th>\n",
       "    </tr>\n",
       "  </thead>\n",
       "  <tbody>\n",
       "    <tr>\n",
       "      <th>0</th>\n",
       "      <td>Random Forest Regressor</td>\n",
       "      <td>665.347641</td>\n",
       "      <td>0.097968</td>\n",
       "      <td>993.146934</td>\n",
       "    </tr>\n",
       "    <tr>\n",
       "      <th>0</th>\n",
       "      <td>Avarage Model</td>\n",
       "      <td>1354.800353</td>\n",
       "      <td>0.455051</td>\n",
       "      <td>1835.135542</td>\n",
       "    </tr>\n",
       "    <tr>\n",
       "      <th>0</th>\n",
       "      <td>Linear Regression - Lasso</td>\n",
       "      <td>1894.725095</td>\n",
       "      <td>0.288322</td>\n",
       "      <td>2756.092763</td>\n",
       "    </tr>\n",
       "    <tr>\n",
       "      <th>0</th>\n",
       "      <td>Linear Regression</td>\n",
       "      <td>1980.557204</td>\n",
       "      <td>0.284178</td>\n",
       "      <td>2838.276678</td>\n",
       "    </tr>\n",
       "    <tr>\n",
       "      <th>0</th>\n",
       "      <td>XGBoost Regressor</td>\n",
       "      <td>6683.488784</td>\n",
       "      <td>0.949471</td>\n",
       "      <td>7330.595131</td>\n",
       "    </tr>\n",
       "  </tbody>\n",
       "</table>\n",
       "</div>"
      ],
      "text/plain": [
       "                  Model Name          MAE      MAPE         RMSE\n",
       "0    Random Forest Regressor   665.347641  0.097968   993.146934\n",
       "0              Avarage Model  1354.800353  0.455051  1835.135542\n",
       "0  Linear Regression - Lasso  1894.725095  0.288322  2756.092763\n",
       "0          Linear Regression  1980.557204  0.284178  2838.276678\n",
       "0          XGBoost Regressor  6683.488784  0.949471  7330.595131"
      ]
     },
     "execution_count": 143,
     "metadata": {},
     "output_type": "execute_result"
    }
   ],
   "source": [
    "modelling_result = pd.concat( [baseline_result,lr_result, lrr_result, rf_result, xgb_result])\n",
    "modelling_result.sort_values('RMSE')"
   ]
  },
  {
   "cell_type": "markdown",
   "id": "fffc89b5",
   "metadata": {},
   "source": [
    "### 8.6.2 -  Perfomance Real - Cross Validation"
   ]
  },
  {
   "cell_type": "code",
   "execution_count": 144,
   "id": "db468f81",
   "metadata": {
    "scrolled": false
   },
   "outputs": [
    {
     "data": {
      "text/html": [
       "<div>\n",
       "<style scoped>\n",
       "    .dataframe tbody tr th:only-of-type {\n",
       "        vertical-align: middle;\n",
       "    }\n",
       "\n",
       "    .dataframe tbody tr th {\n",
       "        vertical-align: top;\n",
       "    }\n",
       "\n",
       "    .dataframe thead th {\n",
       "        text-align: right;\n",
       "    }\n",
       "</style>\n",
       "<table border=\"1\" class=\"dataframe\">\n",
       "  <thead>\n",
       "    <tr style=\"text-align: right;\">\n",
       "      <th></th>\n",
       "      <th>Model Name</th>\n",
       "      <th>MAE CV</th>\n",
       "      <th>MAPE CV</th>\n",
       "      <th>RMSE CV</th>\n",
       "    </tr>\n",
       "  </thead>\n",
       "  <tbody>\n",
       "    <tr>\n",
       "      <th>0</th>\n",
       "      <td>Linear Regression</td>\n",
       "      <td>2094.24 +/- 301.77</td>\n",
       "      <td>0.3 +/- 0.02</td>\n",
       "      <td>2963.5 +/- 486.08</td>\n",
       "    </tr>\n",
       "    <tr>\n",
       "      <th>0</th>\n",
       "      <td>Lasso</td>\n",
       "      <td>2122.84 +/- 364.56</td>\n",
       "      <td>0.29 +/- 0.01</td>\n",
       "      <td>3059.41 +/- 543.84</td>\n",
       "    </tr>\n",
       "    <tr>\n",
       "      <th>0</th>\n",
       "      <td>Random Forest</td>\n",
       "      <td>841.13 +/- 235.66</td>\n",
       "      <td>0.12 +/- 0.03</td>\n",
       "      <td>1258.47 +/- 348.44</td>\n",
       "    </tr>\n",
       "    <tr>\n",
       "      <th>0</th>\n",
       "      <td>XGboost Regressor</td>\n",
       "      <td>7049.11 +/- 588.66</td>\n",
       "      <td>0.95 +/- 0.0</td>\n",
       "      <td>7714.95 +/- 689.71</td>\n",
       "    </tr>\n",
       "  </tbody>\n",
       "</table>\n",
       "</div>"
      ],
      "text/plain": [
       "          Model Name              MAE CV        MAPE CV             RMSE CV\n",
       "0  Linear Regression  2094.24 +/- 301.77   0.3 +/- 0.02   2963.5 +/- 486.08\n",
       "0              Lasso  2122.84 +/- 364.56  0.29 +/- 0.01  3059.41 +/- 543.84\n",
       "0      Random Forest   841.13 +/- 235.66  0.12 +/- 0.03  1258.47 +/- 348.44\n",
       "0  XGboost Regressor  7049.11 +/- 588.66   0.95 +/- 0.0  7714.95 +/- 689.71"
      ]
     },
     "execution_count": 144,
     "metadata": {},
     "output_type": "execute_result"
    }
   ],
   "source": [
    "modelling_result_cv = pd.concat( [lr_result_cv, lrr_result_cv, rf_result_cv, xgb_result_cv])\n",
    "modelling_result_cv"
   ]
  },
  {
   "cell_type": "markdown",
   "id": "0a1a5ad4",
   "metadata": {},
   "source": [
    "## 8.7 - Cross Validation"
   ]
  },
  {
   "cell_type": "code",
   "execution_count": 129,
   "id": "4e1337c4",
   "metadata": {},
   "outputs": [],
   "source": [
    "model = Lasso(alpha=0.01)\n",
    "a = cross_validation(x_training, 5 ,'Lasso', model)\n",
    "a"
   ]
  },
  {
   "cell_type": "code",
   "execution_count": 131,
   "id": "1390c462",
   "metadata": {},
   "outputs": [
    {
     "name": "stdout",
     "output_type": "stream",
     "text": [
      "          Model Name          MAE      MAPE         RMSE\n",
      "0  Linear Regression  1980.557204  0.284178  2838.276678\n",
      "          Model Name          MAE      MAPE         RMSE\n",
      "0  Linear Regression  1980.557204  0.284178  2838.276678\n",
      "          Model Name          MAE      MAPE         RMSE\n",
      "0  Linear Regression  1980.557204  0.284178  2838.276678\n",
      "          Model Name          MAE      MAPE         RMSE\n",
      "0  Linear Regression  1980.557204  0.284178  2838.276678\n",
      "          Model Name          MAE      MAPE         RMSE\n",
      "0  Linear Regression  1980.557204  0.284178  2838.276678\n"
     ]
    }
   ],
   "source": [
    "model = LinearRegression()\n",
    "a = cross_validation(x_training, 5 ,'Regressao Linear', model, verbose=True)\n",
    "a"
   ]
  },
  {
   "cell_type": "code",
   "execution_count": null,
   "id": "10a409b7",
   "metadata": {},
   "outputs": [],
   "source": []
  }
 ],
 "metadata": {
  "kernelspec": {
   "display_name": "Python 3 (ipykernel)",
   "language": "python",
   "name": "python3"
  },
  "language_info": {
   "codemirror_mode": {
    "name": "ipython",
    "version": 3
   },
   "file_extension": ".py",
   "mimetype": "text/x-python",
   "name": "python",
   "nbconvert_exporter": "python",
   "pygments_lexer": "ipython3",
   "version": "3.9.7"
  }
 },
 "nbformat": 4,
 "nbformat_minor": 5
}
